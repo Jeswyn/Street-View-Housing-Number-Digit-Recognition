{
 "cells": [
  {
   "cell_type": "markdown",
   "id": "bf606334",
   "metadata": {},
   "source": [
    "### Project Author- Jeswyn Jas"
   ]
  },
  {
   "cell_type": "markdown",
   "id": "a2498036",
   "metadata": {},
   "source": [
    "# Street View Housing Number Digit Recognition"
   ]
  },
  {
   "cell_type": "markdown",
   "id": "ab347e1c",
   "metadata": {},
   "source": [
    "## Problem Statement \n",
    "\n",
    "**NEURAL NETWORK**"
   ]
  },
  {
   "cell_type": "markdown",
   "id": "5415776c",
   "metadata": {},
   "source": [
    "<b>Domain</b>\n",
    "\n",
    "Autonomous Vehicles, Neural Networks\n",
    "\n",
    "### Context\n",
    "\n",
    "Recognizing multi-digit numbers in photographs captured at street level is an important component of modern-day map making. A classic example of a corpus of such street level photographs is Google’s Street View imagery composed of hundreds of millions of geo-located 360-degree panoramic images.\n",
    "\n",
    "The ability to automatically transcribe an address number from a geo-located patch of pixels and associate the transcribed number with a known street address helps pinpoint, with a high degree of accuracy, the location of the building it represents. More broadly, recognizing numbers in photographs is a problem of interest to the optical character recognition community.\n",
    "\n",
    "While OCR on constrained domains like document processing is well studied, arbitrary multi-character text recognition in photographs is still highly challenging. This difficulty arises due to the wide variability in the visual appearance of text in the wild on account of a large range of fonts, colours, styles, orientations, and character arrangements.\n",
    "\n",
    "The recognition problem is further complicated by environmental factors such as lighting, shadows, specularities, and occlusions as well as by image acquisition factors such as resolution, motion, and focus blurs. In this project, we will use the dataset with images centred around a single digit (many of the images do contain some distractors at the sides). Although we are taking a sample of the data which is simpler, it is more complex than MNIST because of the distractors"
   ]
  },
  {
   "cell_type": "markdown",
   "id": "f6073fdf",
   "metadata": {},
   "source": [
    "## OBJECTIVE\n",
    "We will build a digit classifier on the SVHN (Street View Housing Number) dataset"
   ]
  },
  {
   "cell_type": "markdown",
   "id": "42757e95",
   "metadata": {},
   "source": [
    "### Dataset description\n",
    "\n",
    "SVHN is a real-world image dataset for developing machine learning and object recognition algorithms with the minimal requirement on data formatting but comes from a significantly harder, unsolved, real-world problem (recognizing digits and numbers in natural scene images). SVHN is obtained from house numbers in Google Street View images."
   ]
  },
  {
   "cell_type": "markdown",
   "id": "e07c8902",
   "metadata": {},
   "source": [
    "### IMPORTING NECCESARY LIBRARIES"
   ]
  },
  {
   "cell_type": "code",
   "execution_count": 1,
   "id": "fbffa1dd",
   "metadata": {},
   "outputs": [],
   "source": [
    "# Basic packages\n",
    "import pandas as pd \n",
    "import numpy as np \n",
    "import matplotlib.pyplot as plt\n",
    "import seaborn as sns\n",
    "import h5py\n",
    "import matplotlib.style as style; style.use('fivethirtyeight')\n",
    "%matplotlib inline\n",
    "\n",
    "# Metrics and preprocessing (SKlearn)\n",
    "from sklearn.metrics import classification_report, accuracy_score, confusion_matrix, precision_score, recall_score, f1_score, precision_recall_curve, auc\n",
    "from sklearn.model_selection import train_test_split\n",
    "from sklearn import preprocessing\n",
    "\n",
    "# TF and Keras\n",
    "from tensorflow.keras.layers import Dense, Dropout, BatchNormalization\n",
    "from tensorflow.keras.layers import Activation, Dense\n",
    "from tensorflow.keras.utils import to_categorical\n",
    "from tensorflow.keras.models import Sequential\n",
    "from tensorflow.keras import optimizers"
   ]
  },
  {
   "cell_type": "markdown",
   "id": "02c4868f",
   "metadata": {},
   "source": [
    "### Loading train, val and test datasets from h5py file SVHN_single_grey1.h5 "
   ]
  },
  {
   "cell_type": "code",
   "execution_count": 2,
   "id": "f53da883",
   "metadata": {},
   "outputs": [],
   "source": [
    "h5f = h5py.File(r'C:\\Users\\user\\OneDrive\\Documents\\SVHN_single_grey1.h5','r')"
   ]
  },
  {
   "cell_type": "code",
   "execution_count": 3,
   "id": "cb973f60",
   "metadata": {},
   "outputs": [
    {
     "data": {
      "text/plain": [
       "<KeysViewHDF5 ['X_test', 'X_train', 'X_val', 'y_test', 'y_train', 'y_val']>"
      ]
     },
     "execution_count": 3,
     "metadata": {},
     "output_type": "execute_result"
    }
   ],
   "source": [
    "h5f.keys() "
   ]
  },
  {
   "cell_type": "code",
   "execution_count": 4,
   "id": "a8a327bb",
   "metadata": {},
   "outputs": [
    {
     "name": "stdout",
     "output_type": "stream",
     "text": [
      "Training set (42000, 32, 32) (42000,)\n",
      "Validation set (60000, 32, 32) (60000,)\n",
      "Test set (18000, 32, 32) (18000,)\n",
      "\n",
      "\n",
      "Unique labels in y_train: [0 1 2 3 4 5 6 7 8 9]\n",
      "Unique labels in y_val: [0 1 2 3 4 5 6 7 8 9]\n",
      "Unique labels in y_test: [0 1 2 3 4 5 6 7 8 9]\n"
     ]
    }
   ],
   "source": [
    "# Load the training, validation and test sets\n",
    "X_train = h5f['X_train'][:]\n",
    "y_train_o = h5f['y_train'][:]\n",
    "X_val = h5f['X_val'][:]\n",
    "y_val_o = h5f['y_val'][:]\n",
    "X_test = h5f['X_test'][:]\n",
    "y_test_o = h5f['y_test'][:]\n",
    "\n",
    "# Close this file\n",
    "\n",
    "h5f.close()\n",
    "\n",
    "\n",
    "print('Training set', X_train.shape, y_train_o.shape)\n",
    "print('Validation set', X_val.shape, y_val_o.shape)\n",
    "print('Test set', X_test.shape, y_test_o.shape)\n",
    "\n",
    "print('\\n')\n",
    "print('Unique labels in y_train:', np.unique(y_train_o))\n",
    "print('Unique labels in y_val:', np.unique(y_val_o))\n",
    "print('Unique labels in y_test:', np.unique(y_test_o)) "
   ]
  },
  {
   "cell_type": "markdown",
   "id": "e703e5ef",
   "metadata": {},
   "source": [
    "#### Insights - Sets Shape\n",
    "\n",
    "Length of training sets: 42,000, validation sets: 60,0000, test sets: 18,0000\n",
    "\n",
    "Size of the images: 32*32\n",
    "\n",
    "Number of class: 10 "
   ]
  },
  {
   "cell_type": "markdown",
   "id": "da7567b0",
   "metadata": {},
   "source": [
    "### Dataset Visualization "
   ]
  },
  {
   "cell_type": "code",
   "execution_count": 5,
   "id": "a066e959",
   "metadata": {},
   "outputs": [
    {
     "data": {
      "image/png": "[encoded data removed]",
      "text/plain": [
       "<Figure size 1080x540 with 10 Axes>"
      ]
     },
     "metadata": {
      "needs_background": "light"
     },
     "output_type": "display_data"
    },
    {
     "name": "stdout",
     "output_type": "stream",
     "text": [
      "Label for each of the above image: [2 6 7 4 4 0 3 0 7 3]\n"
     ]
    }
   ],
   "source": [
    "#Visualizing first 10 images\n",
    "plt.figure(figsize = (15, 7.5))\n",
    "for i in range(10):  \n",
    "    plt.subplot(1, 10, i+1)\n",
    "    plt.imshow(X_train[i].reshape((32, 32)),cmap = plt.cm.binary)\n",
    "    plt.axis('off')\n",
    "plt.subplots_adjust(wspace = -0.1, hspace = -0.1)\n",
    "plt.show()\n",
    "\n",
    "print('Label for each of the above image: %s' % (y_train_o[0 : 10])) "
   ]
  },
  {
   "cell_type": "code",
   "execution_count": 6,
   "id": "b9906811",
   "metadata": {},
   "outputs": [
    {
     "name": "stdout",
     "output_type": "stream",
     "text": [
      "Checking first image and label in training set\n",
      "--------------------------------------------------------------------------------\n"
     ]
    },
    {
     "data": {
      "image/png": "[encoded data removed]",
      "text/plain": [
       "<Figure size 432x288 with 1 Axes>"
      ]
     },
     "metadata": {
      "needs_background": "light"
     },
     "output_type": "display_data"
    },
    {
     "name": "stdout",
     "output_type": "stream",
     "text": [
      "Label: 2\n"
     ]
    }
   ],
   "source": [
    "# To check the fisrt image and label in training set\n",
    "print('Checking first image and label in training set'); print('--'*40)\n",
    "plt.imshow(X_train[0], cmap = plt.cm.binary)    \n",
    "plt.show()\n",
    "print('Label:', y_train_o[0]) "
   ]
  },
  {
   "cell_type": "code",
   "execution_count": 7,
   "id": "fbe5576b",
   "metadata": {},
   "outputs": [
    {
     "name": "stdout",
     "output_type": "stream",
     "text": [
      "Checking first image and label in validation set\n",
      "--------------------------------------------------------------------------------\n"
     ]
    },
    {
     "data": {
      "image/png": "[encoded data removed]",
      "text/plain": [
       "<Figure size 432x288 with 1 Axes>"
      ]
     },
     "metadata": {
      "needs_background": "light"
     },
     "output_type": "display_data"
    },
    {
     "name": "stdout",
     "output_type": "stream",
     "text": [
      "Label: 0\n"
     ]
    }
   ],
   "source": [
    "# To check the first image and label in validation set\n",
    "print('Checking first image and label in validation set'); print('--'*40)\n",
    "plt.imshow(X_val[0], cmap = plt.cm.binary)    \n",
    "plt.show()\n",
    "print('Label:', y_val_o[0]) "
   ]
  },
  {
   "cell_type": "code",
   "execution_count": 8,
   "id": "65364623",
   "metadata": {},
   "outputs": [
    {
     "name": "stdout",
     "output_type": "stream",
     "text": [
      "Checking first image and label in test set\n",
      "--------------------------------------------------------------------------------\n"
     ]
    },
    {
     "data": {
      "image/png": "[encoded data removed]",
      "text/plain": [
       "<Figure size 432x288 with 1 Axes>"
      ]
     },
     "metadata": {
      "needs_background": "light"
     },
     "output_type": "display_data"
    },
    {
     "name": "stdout",
     "output_type": "stream",
     "text": [
      "Label: 1\n"
     ]
    }
   ],
   "source": [
    "# To check the first image and label in test set\n",
    "print('Checking first image and label in test set'); print('--'*40)\n",
    "plt.imshow(X_test[0], cmap = plt.cm.binary)    \n",
    "plt.show()\n",
    "print('Label:', y_test_o[0]) "
   ]
  },
  {
   "cell_type": "markdown",
   "id": "52e0fc1e",
   "metadata": {},
   "source": [
    "### Reshape and normalize the train and test features so that the same can be fed for model building. We need to feed a 2D tensor into the model and currently we have a 3D tensor "
   ]
  },
  {
   "cell_type": "markdown",
   "id": "a631cc17",
   "metadata": {},
   "source": [
    "### To flatten and normalize the images for Keras "
   ]
  },
  {
   "cell_type": "code",
   "execution_count": 9,
   "id": "115fe90c",
   "metadata": {},
   "outputs": [
    {
     "name": "stdout",
     "output_type": "stream",
     "text": [
      "Reshaping X data: (n, 32, 32) => (n, 1024)\n",
      "--------------------------------------------------------------------------------\n",
      "Making sure that the values are float so that we can get decimal points after division\n",
      "--------------------------------------------------------------------------------\n",
      "Normalizing the RGB codes by dividing it to the max RGB value\n",
      "--------------------------------------------------------------------------------\n"
     ]
    }
   ],
   "source": [
    "print('Reshaping X data: (n, 32, 32) => (n, 1024)'); print('--'*40)\n",
    "X_train = X_train.reshape((X_train.shape[0], -1))\n",
    "X_val = X_val.reshape((X_val.shape[0], -1))\n",
    "X_test = X_test.reshape((X_test.shape[0], -1))\n",
    "\n",
    "print('Making sure that the values are float so that we can get decimal points after division'); print('--'*40)\n",
    "X_train = X_train.astype('float32')\n",
    "X_val = X_val.astype('float32')\n",
    "X_test = X_test.astype('float32')\n",
    "\n",
    "print('Normalizing the RGB codes by dividing it to the max RGB value'); print('--'*40)\n",
    "X_train /= 255\n",
    "X_val /= 255\n",
    "X_test /= 255\n",
    "\n"
   ]
  },
  {
   "cell_type": "code",
   "execution_count": 10,
   "id": "c77deab5",
   "metadata": {},
   "outputs": [
    {
     "name": "stdout",
     "output_type": "stream",
     "text": [
      "X_train shape: (42000, 1024)\n",
      "X_val shape: (60000, 1024)\n",
      "X_test shape: (18000, 1024)\n",
      "\n",
      "\n",
      "y_train shape: (42000,)\n",
      "y_val shape: (60000,)\n",
      "y_test shape: (18000,)\n",
      "\n",
      "\n",
      "Number of images in X_train 42000\n",
      "Number of images in X_val 60000\n",
      "Number of images in X_test 18000\n"
     ]
    }
   ],
   "source": [
    "print('X_train shape:', X_train.shape)\n",
    "print('X_val shape:', X_val.shape)\n",
    "print('X_test shape:', X_test.shape)\n",
    "\n",
    "print('\\n')\n",
    "print('y_train shape:', y_train_o.shape)\n",
    "print('y_val shape:', y_val_o.shape)\n",
    "print('y_test shape:', y_test_o.shape)\n",
    "\n",
    "print('\\n')\n",
    "print('Number of images in X_train', X_train.shape[0])\n",
    "print('Number of images in X_val', X_val.shape[0])\n",
    "print('Number of images in X_test', X_test.shape[0]) "
   ]
  },
  {
   "cell_type": "markdown",
   "id": "a87e629a",
   "metadata": {},
   "source": [
    "### One hot encode the labels for train and test data "
   ]
  },
  {
   "cell_type": "code",
   "execution_count": 11,
   "id": "69b7882e",
   "metadata": {},
   "outputs": [
    {
     "name": "stdout",
     "output_type": "stream",
     "text": [
      "Converting y data into categorical (one-hot encoding)\n",
      "--------------------------------------------------------------------------------\n"
     ]
    }
   ],
   "source": [
    "print('Converting y data into categorical (one-hot encoding)'); print('--'*40)\n",
    "y_train = to_categorical(y_train_o)\n",
    "y_val = to_categorical(y_val_o)\n",
    "y_test = to_categorical(y_test_o) "
   ]
  },
  {
   "cell_type": "code",
   "execution_count": 12,
   "id": "051a6740",
   "metadata": {},
   "outputs": [
    {
     "data": {
      "text/plain": [
       "dtype('float32')"
      ]
     },
     "execution_count": 12,
     "metadata": {},
     "output_type": "execute_result"
    }
   ],
   "source": [
    "y_train.dtype "
   ]
  },
  {
   "cell_type": "code",
   "execution_count": 13,
   "id": "45384cfb",
   "metadata": {},
   "outputs": [
    {
     "data": {
      "text/plain": [
       "array([[0., 1., 0., ..., 0., 0., 0.],\n",
       "       [0., 0., 0., ..., 1., 0., 0.],\n",
       "       [0., 0., 1., ..., 0., 0., 0.],\n",
       "       ...,\n",
       "       [0., 0., 0., ..., 1., 0., 0.],\n",
       "       [0., 0., 0., ..., 0., 0., 1.],\n",
       "       [0., 0., 1., ..., 0., 0., 0.]], dtype=float32)"
      ]
     },
     "execution_count": 13,
     "metadata": {},
     "output_type": "execute_result"
    }
   ],
   "source": [
    "y_test "
   ]
  },
  {
   "cell_type": "markdown",
   "id": "9eff9744",
   "metadata": {},
   "source": [
    "## Define the model architecture using TensorFlow with a flatten layer followed by dense layers with activation as ReLu and softmax "
   ]
  },
  {
   "cell_type": "markdown",
   "id": "72296b0a",
   "metadata": {},
   "source": [
    "### Model Building - Baby sitting the learning process "
   ]
  },
  {
   "cell_type": "markdown",
   "id": "a520b971",
   "metadata": {},
   "source": [
    "#### Fully connected linear layer"
   ]
  },
  {
   "cell_type": "code",
   "execution_count": 14,
   "id": "41551115",
   "metadata": {},
   "outputs": [],
   "source": [
    "class Linear():\n",
    "    def __init__(self, in_size, out_size):\n",
    "        self.W = np.random.randn(in_size, out_size) * 0.01\n",
    "        self.b = np.zeros((1, out_size))\n",
    "        self.params = [self.W, self.b]\n",
    "        self.gradW = None\n",
    "        self.gradB = None\n",
    "        self.gradInput = None        \n",
    "\n",
    "    def forward(self, X):\n",
    "        self.X = X\n",
    "        self.output = np.dot(X, self.W) + self.b\n",
    "        return self.output\n",
    "\n",
    "    def backward(self, nextgrad):\n",
    "        self.gradW = np.dot(self.X.T, nextgrad)\n",
    "        self.gradB = np.sum(nextgrad, axis=0)\n",
    "        self.gradInput = np.dot(nextgrad, self.W.T)\n",
    "        return self.gradInput, [self.gradW, self.gradB] "
   ]
  },
  {
   "cell_type": "markdown",
   "id": "541b6c81",
   "metadata": {},
   "source": [
    "#### ReLU "
   ]
  },
  {
   "cell_type": "code",
   "execution_count": 15,
   "id": "c00b467b",
   "metadata": {},
   "outputs": [],
   "source": [
    "class ReLU():\n",
    "    def __init__(self):\n",
    "        self.params = []\n",
    "        self.gradInput = None\n",
    "\n",
    "    def forward(self, X):\n",
    "        self.output = np.maximum(X, 0)\n",
    "        return self.output\n",
    "\n",
    "    def backward(self, nextgrad):\n",
    "        self.gradInput = nextgrad.copy()\n",
    "        self.gradInput[self.output <=0] = 0\n",
    "        return self.gradInput, [] "
   ]
  },
  {
   "cell_type": "markdown",
   "id": "e18b416e",
   "metadata": {},
   "source": [
    "#### Softmax Function "
   ]
  },
  {
   "cell_type": "code",
   "execution_count": 16,
   "id": "605553f5",
   "metadata": {},
   "outputs": [],
   "source": [
    "def softmax(x):\n",
    "    exp_x = np.exp(x - np.max(x, axis=1, keepdims=True))\n",
    "    return exp_x / np.sum(exp_x, axis=1, keepdims=True) "
   ]
  },
  {
   "cell_type": "markdown",
   "id": "0a253dff",
   "metadata": {},
   "source": [
    "#### Cross Entropy Loss "
   ]
  },
  {
   "cell_type": "code",
   "execution_count": 17,
   "id": "647f1dc7",
   "metadata": {},
   "outputs": [],
   "source": [
    "class CrossEntropy:\n",
    "    def forward(self, X, y):\n",
    "        self.m = y.shape[0]\n",
    "        self.p = softmax(X)\n",
    "        cross_entropy = -np.log(self.p[range(self.m), y]+1e-16)\n",
    "        loss = np.sum(cross_entropy) / self.m\n",
    "        return loss\n",
    "    \n",
    "    def backward(self, X, y):\n",
    "        y_idx = y.argmax()        \n",
    "        grad = softmax(X)\n",
    "        grad[range(self.m), y] -= 1\n",
    "        grad /= self.m\n",
    "        return grad "
   ]
  },
  {
   "cell_type": "markdown",
   "id": "010841fd",
   "metadata": {},
   "source": [
    "### NN class that enables the forward prop and backward propagation of the entire network "
   ]
  },
  {
   "cell_type": "code",
   "execution_count": 18,
   "id": "7c8b7aad",
   "metadata": {},
   "outputs": [],
   "source": [
    "class NN():\n",
    "    def __init__(self, lossfunc = CrossEntropy(), mode = 'train'):\n",
    "        self.params = []\n",
    "        self.layers = []\n",
    "        self.loss_func = lossfunc\n",
    "        self.grads = []\n",
    "        self.mode = mode\n",
    "        \n",
    "    def add_layer(self, layer):\n",
    "        self.layers.append(layer)\n",
    "        self.params.append(layer.params)\n",
    "\n",
    "    def forward(self, X):\n",
    "        for layer in self.layers:\n",
    "            X = layer.forward(X)\n",
    "        return X\n",
    "    \n",
    "    def backward(self, nextgrad):\n",
    "        self.clear_grad_param()\n",
    "        for layer in reversed(self.layers):\n",
    "            nextgrad, grad = layer.backward(nextgrad)\n",
    "            self.grads.append(grad)\n",
    "        return self.grads\n",
    "    \n",
    "    def train_step(self, X, y):\n",
    "        out = self.forward(X)\n",
    "        loss = self.loss_func.forward(out,y)\n",
    "        nextgrad = self.loss_func.backward(out,y)\n",
    "        grads = self.backward(nextgrad)\n",
    "        return loss, grads\n",
    "    \n",
    "    def predict(self, X):\n",
    "        X = self.forward(X)\n",
    "        p = softmax(X)\n",
    "        return np.argmax(p, axis=1)\n",
    "    \n",
    "    def predict_scores(self, X):\n",
    "        X = self.forward(X)\n",
    "        p = softmax(X)\n",
    "        return p\n",
    "    \n",
    "    def clear_grad_param(self):\n",
    "        self.grads = [] "
   ]
  },
  {
   "cell_type": "code",
   "execution_count": 19,
   "id": "93894900",
   "metadata": {},
   "outputs": [],
   "source": [
    "def update(velocity, params, grads, learning_rate=0.01, mu=0.9):\n",
    "    for v, p, g, in zip(velocity, params, reversed(grads)):\n",
    "        for i in range(len(g)):\n",
    "            v[i] = (mu * v[i]) - (learning_rate * g[i])\n",
    "            p[i] += v[i] "
   ]
  },
  {
   "cell_type": "markdown",
   "id": "bf4290fd",
   "metadata": {},
   "source": [
    "#### mini batches "
   ]
  },
  {
   "cell_type": "code",
   "execution_count": 20,
   "id": "cccc3310",
   "metadata": {},
   "outputs": [],
   "source": [
    "def minibatch(X, y, minibatch_size):\n",
    "    n = X.shape[0]\n",
    "    minibatches = []\n",
    "    permutation = np.random.permutation(X.shape[0])\n",
    "    X = X[permutation]\n",
    "    y = y[permutation]\n",
    "    \n",
    "    for i in range(0, n , minibatch_size):\n",
    "        X_batch = X[i:i + minibatch_size, :]\n",
    "        y_batch = y[i:i + minibatch_size, ]\n",
    "        minibatches.append((X_batch, y_batch))\n",
    "        \n",
    "    return minibatches "
   ]
  },
  {
   "cell_type": "markdown",
   "id": "acf67d06",
   "metadata": {},
   "source": [
    "#### Training Loop "
   ]
  },
  {
   "cell_type": "code",
   "execution_count": 21,
   "id": "9ea1310d",
   "metadata": {},
   "outputs": [],
   "source": [
    "def train(net, X_train, y_train, minibatch_size, epoch, learning_rate, mu = 0.9, X_val = None, y_val = None, Lambda = 0, verb = True):\n",
    "    val_loss_epoch = []\n",
    "    minibatches = minibatch(X_train, y_train, minibatch_size)\n",
    "    minibatches_val = minibatch(X_val, y_val, minibatch_size)\n",
    "    \n",
    "    for i in range(epoch):\n",
    "        loss_batch = []\n",
    "        val_loss_batch = []\n",
    "        velocity = []\n",
    "        for param_layer in net.params:\n",
    "            p = [np.zeros_like(param) for param in list(param_layer)]\n",
    "            velocity.append(p)\n",
    "            \n",
    "        # iterate over mini batches\n",
    "        for X_mini, y_mini in minibatches:\n",
    "            loss, grads = net.train_step(X_mini, y_mini)\n",
    "            loss_batch.append(loss)\n",
    "            update(velocity, net.params, grads, learning_rate=learning_rate, mu=mu)\n",
    "\n",
    "        for X_mini_val, y_mini_val in minibatches_val:\n",
    "            val_loss, _ = net.train_step(X_mini, y_mini)\n",
    "            val_loss_batch.append(val_loss)\n",
    "        \n",
    "        # accuracy of model at end of epoch after all mini batch updates\n",
    "        m_train = X_train.shape[0]\n",
    "        m_val = X_val.shape[0]\n",
    "        y_train_pred = []\n",
    "        y_val_pred = []\n",
    "        y_train1 = []\n",
    "        y_vall = []\n",
    "        for ii in range(0, m_train, minibatch_size):\n",
    "            X_tr = X_train[ii:ii + minibatch_size, : ]\n",
    "            y_tr = y_train[ii:ii + minibatch_size,]\n",
    "            y_train1 = np.append(y_train1, y_tr)\n",
    "            y_train_pred = np.append(y_train_pred, net.predict(X_tr))\n",
    "\n",
    "        for ii in range(0, m_val, minibatch_size):\n",
    "            X_va = X_val[ii:ii + minibatch_size, : ]\n",
    "            y_va = y_val[ii:ii + minibatch_size,]\n",
    "            y_vall = np.append(y_vall, y_va)\n",
    "            y_val_pred = np.append(y_val_pred, net.predict(X_va))\n",
    "            \n",
    "        train_acc = check_accuracy(y_train1, y_train_pred)\n",
    "        val_acc = check_accuracy(y_vall, y_val_pred)\n",
    "        \n",
    "        ## weights\n",
    "        w = np.array(net.params[0][0])\n",
    "        \n",
    "        ## adding regularization to cost\n",
    "        mean_train_loss = (sum(loss_batch) / float(len(loss_batch)))\n",
    "        mean_val_loss = sum(val_loss_batch) / float(len(val_loss_batch))\n",
    "        \n",
    "        val_loss_epoch.append(mean_val_loss)\n",
    "        if verb:\n",
    "            if i%50==0:\n",
    "                print(\"Epoch {3}/{4}: Loss = {0} | Training Accuracy = {1}\".format(mean_train_loss, train_acc, val_acc, i, epoch))\n",
    "    return net, val_acc "
   ]
  },
  {
   "cell_type": "code",
   "execution_count": 22,
   "id": "6a355a5b",
   "metadata": {},
   "outputs": [],
   "source": [
    "def check_accuracy(y_true, y_pred):\n",
    "    return np.mean(y_pred == y_true) "
   ]
  },
  {
   "cell_type": "code",
   "execution_count": 23,
   "id": "11c688c4",
   "metadata": {},
   "outputs": [],
   "source": [
    "# Invoking the model\n",
    "## input size\n",
    "input_dim = X_train.shape[1]\n",
    "\n",
    "def train_and_test_loop(iterations, lr, Lambda, verb = True):\n",
    "    ## hyperparameters\n",
    "    iterations = iterations\n",
    "    learning_rate = lr\n",
    "    hidden_nodes1 = 10\n",
    "    output_nodes = 10\n",
    "\n",
    "    ## define neural net\n",
    "    nn = NN()\n",
    "    nn.add_layer(Linear(input_dim, hidden_nodes1))\n",
    "\n",
    "    nn, val_acc = train(nn, X_train, y_train_o, minibatch_size = 200, epoch = iterations, learning_rate = learning_rate,\\\n",
    "                      X_val = X_test, y_val = y_test_o, Lambda = Lambda, verb = verb)\n",
    "    return val_acc "
   ]
  },
  {
   "cell_type": "code",
   "execution_count": 24,
   "id": "d74e3f11",
   "metadata": {},
   "outputs": [
    {
     "name": "stdout",
     "output_type": "stream",
     "text": [
      "Epoch 0/1: Loss = 2.3079164868829274 | Training Accuracy = 0.10371428571428572\n"
     ]
    },
    {
     "data": {
      "text/plain": [
       "0.10455555555555555"
      ]
     },
     "execution_count": 24,
     "metadata": {},
     "output_type": "execute_result"
    }
   ],
   "source": [
    "lr = 0.00001\n",
    "Lambda = 0\n",
    "train_and_test_loop(1, lr, Lambda) "
   ]
  },
  {
   "cell_type": "code",
   "execution_count": 25,
   "id": "316bd143",
   "metadata": {},
   "outputs": [
    {
     "name": "stdout",
     "output_type": "stream",
     "text": [
      "Epoch 0/1: Loss = 2.306912478342516 | Training Accuracy = 0.09935714285714285\n"
     ]
    },
    {
     "data": {
      "text/plain": [
       "0.09938888888888889"
      ]
     },
     "execution_count": 25,
     "metadata": {},
     "output_type": "execute_result"
    }
   ],
   "source": [
    "lr = 0.00001\n",
    "Lambda = 1e3\n",
    "train_and_test_loop(1, lr, Lambda) "
   ]
  },
  {
   "cell_type": "code",
   "execution_count": 26,
   "id": "d5a5f2f1",
   "metadata": {},
   "outputs": [
    {
     "data": {
      "text/plain": [
       "((20, 1024), (20,))"
      ]
     },
     "execution_count": 26,
     "metadata": {},
     "output_type": "execute_result"
    }
   ],
   "source": [
    "X_train_subset = X_train[0:20]\n",
    "y_train_subset = y_train_o[0:20]\n",
    "\n",
    "X_train = X_train_subset\n",
    "y_train_o = y_train_subset\n",
    "\n",
    "X_train.shape, y_train_o.shape"
   ]
  },
  {
   "cell_type": "code",
   "execution_count": 27,
   "id": "9954deff",
   "metadata": {},
   "outputs": [
    {
     "name": "stdout",
     "output_type": "stream",
     "text": [
      "Wall time: 0 ns\n",
      "Epoch 0/5000: Loss = 2.2879735672752224 | Training Accuracy = 0.2\n",
      "Epoch 50/5000: Loss = 1.9231154043278456 | Training Accuracy = 0.35\n",
      "Epoch 100/5000: Loss = 1.8418789053703837 | Training Accuracy = 0.3\n",
      "Epoch 150/5000: Loss = 1.7889959151867814 | Training Accuracy = 0.45\n",
      "Epoch 200/5000: Loss = 1.7446559267939037 | Training Accuracy = 0.45\n",
      "Epoch 250/5000: Loss = 1.704630716460907 | Training Accuracy = 0.5\n",
      "Epoch 300/5000: Loss = 1.667381966716573 | Training Accuracy = 0.5\n",
      "Epoch 350/5000: Loss = 1.6321922695900852 | Training Accuracy = 0.5\n",
      "Epoch 400/5000: Loss = 1.5986719102368967 | Training Accuracy = 0.5\n",
      "Epoch 450/5000: Loss = 1.5665831069729235 | Training Accuracy = 0.55\n",
      "Epoch 500/5000: Loss = 1.5357660389729602 | Training Accuracy = 0.55\n",
      "Epoch 550/5000: Loss = 1.5061043262991503 | Training Accuracy = 0.55\n",
      "Epoch 600/5000: Loss = 1.477507638604552 | Training Accuracy = 0.6\n",
      "Epoch 650/5000: Loss = 1.449902346779413 | Training Accuracy = 0.6\n",
      "Epoch 700/5000: Loss = 1.4232261960990378 | Training Accuracy = 0.6\n",
      "Epoch 750/5000: Loss = 1.397425103760726 | Training Accuracy = 0.6\n",
      "Epoch 800/5000: Loss = 1.3724511362670628 | Training Accuracy = 0.65\n",
      "Epoch 850/5000: Loss = 1.3482611730827734 | Training Accuracy = 0.65\n",
      "Epoch 900/5000: Loss = 1.3248159868714497 | Training Accuracy = 0.65\n",
      "Epoch 950/5000: Loss = 1.3020795866814248 | Training Accuracy = 0.65\n",
      "Epoch 1000/5000: Loss = 1.2800187331052026 | Training Accuracy = 0.65\n",
      "Epoch 1050/5000: Loss = 1.2586025695764136 | Training Accuracy = 0.65\n",
      "Epoch 1100/5000: Loss = 1.2378023343963789 | Training Accuracy = 0.65\n",
      "Epoch 1150/5000: Loss = 1.2175911303625122 | Training Accuracy = 0.65\n",
      "Epoch 1200/5000: Loss = 1.1979437364847416 | Training Accuracy = 0.7\n",
      "Epoch 1250/5000: Loss = 1.1788364511324485 | Training Accuracy = 0.7\n",
      "Epoch 1300/5000: Loss = 1.1602469591325864 | Training Accuracy = 0.7\n",
      "Epoch 1350/5000: Loss = 1.1421542174683763 | Training Accuracy = 0.75\n",
      "Epoch 1400/5000: Loss = 1.1245383556839923 | Training Accuracy = 0.75\n",
      "Epoch 1450/5000: Loss = 1.1073805881151835 | Training Accuracy = 0.75\n",
      "Epoch 1500/5000: Loss = 1.0906631357846008 | Training Accuracy = 0.75\n",
      "Epoch 1550/5000: Loss = 1.0743691563173876 | Training Accuracy = 0.8\n",
      "Epoch 1600/5000: Loss = 1.058482680608994 | Training Accuracy = 0.8\n",
      "Epoch 1650/5000: Loss = 1.0429885552544755 | Training Accuracy = 0.85\n",
      "Epoch 1700/5000: Loss = 1.0278723899549749 | Training Accuracy = 0.85\n",
      "Epoch 1750/5000: Loss = 1.0131205092721784 | Training Accuracy = 0.85\n",
      "Epoch 1800/5000: Loss = 0.9987199082191296 | Training Accuracy = 0.85\n",
      "Epoch 1850/5000: Loss = 0.984658211265713 | Training Accuracy = 0.85\n",
      "Epoch 1900/5000: Loss = 0.9709236344065152 | Training Accuracy = 0.85\n",
      "Epoch 1950/5000: Loss = 0.9575049499928241 | Training Accuracy = 0.85\n",
      "Epoch 2000/5000: Loss = 0.9443914540730642 | Training Accuracy = 0.85\n",
      "Epoch 2050/5000: Loss = 0.9315729360198712 | Training Accuracy = 0.85\n",
      "Epoch 2100/5000: Loss = 0.9190396502492441 | Training Accuracy = 0.85\n",
      "Epoch 2150/5000: Loss = 0.9067822898595799 | Training Accuracy = 0.85\n",
      "Epoch 2200/5000: Loss = 0.8947919620368054 | Training Accuracy = 0.9\n",
      "Epoch 2250/5000: Loss = 0.8830601650873762 | Training Accuracy = 0.9\n",
      "Epoch 2300/5000: Loss = 0.8715787669741311 | Training Accuracy = 0.9\n",
      "Epoch 2350/5000: Loss = 0.8603399852414244 | Training Accuracy = 0.95\n",
      "Epoch 2400/5000: Loss = 0.8493363682259583 | Training Accuracy = 0.95\n",
      "Epoch 2450/5000: Loss = 0.8385607774585822 | Training Accuracy = 0.95\n",
      "Epoch 2500/5000: Loss = 0.8280063711702406 | Training Accuracy = 0.95\n",
      "Epoch 2550/5000: Loss = 0.8176665888223397 | Training Accuracy = 0.95\n",
      "Epoch 2600/5000: Loss = 0.80753513658826 | Training Accuracy = 0.95\n",
      "Epoch 2650/5000: Loss = 0.7976059737185918 | Training Accuracy = 0.95\n",
      "Epoch 2700/5000: Loss = 0.7878732997280101 | Training Accuracy = 1.0\n",
      "Epoch 2750/5000: Loss = 0.7783315423466136 | Training Accuracy = 1.0\n",
      "Epoch 2800/5000: Loss = 0.7689753461830188 | Training Accuracy = 1.0\n",
      "Epoch 2850/5000: Loss = 0.759799562050622 | Training Accuracy = 1.0\n",
      "Epoch 2900/5000: Loss = 0.7507992369122095 | Training Accuracy = 1.0\n",
      "Epoch 2950/5000: Loss = 0.7419696044015591 | Training Accuracy = 1.0\n",
      "Epoch 3000/5000: Loss = 0.7333060758838525 | Training Accuracy = 1.0\n",
      "Epoch 3050/5000: Loss = 0.7248042320196244 | Training Accuracy = 1.0\n",
      "Epoch 3100/5000: Loss = 0.716459814799649 | Training Accuracy = 1.0\n",
      "Epoch 3150/5000: Loss = 0.7082687200206098 | Training Accuracy = 1.0\n",
      "Epoch 3200/5000: Loss = 0.7002269901736378 | Training Accuracy = 1.0\n",
      "Epoch 3250/5000: Loss = 0.6923308077198582 | Training Accuracy = 1.0\n",
      "Epoch 3300/5000: Loss = 0.6845764887289693 | Training Accuracy = 1.0\n",
      "Epoch 3350/5000: Loss = 0.6769604768585946 | Training Accuracy = 1.0\n",
      "Epoch 3400/5000: Loss = 0.6694793376537392 | Training Accuracy = 1.0\n",
      "Epoch 3450/5000: Loss = 0.6621297531471197 | Training Accuracy = 1.0\n",
      "Epoch 3500/5000: Loss = 0.6549085167424731 | Training Accuracy = 1.0\n",
      "Epoch 3550/5000: Loss = 0.6478125283641709 | Training Accuracy = 1.0\n",
      "Epoch 3600/5000: Loss = 0.6408387898575814 | Training Accuracy = 1.0\n",
      "Epoch 3650/5000: Loss = 0.6339844006256615 | Training Accuracy = 1.0\n",
      "Epoch 3700/5000: Loss = 0.6272465534882067 | Training Accuracy = 1.0\n",
      "Epoch 3750/5000: Loss = 0.6206225307510655 | Training Accuracy = 1.0\n",
      "Epoch 3800/5000: Loss = 0.6141097004734353 | Training Accuracy = 1.0\n",
      "Epoch 3850/5000: Loss = 0.6077055129221024 | Training Accuracy = 1.0\n",
      "Epoch 3900/5000: Loss = 0.601407497202188 | Training Accuracy = 1.0\n",
      "Epoch 3950/5000: Loss = 0.5952132580545967 | Training Accuracy = 1.0\n",
      "Epoch 4000/5000: Loss = 0.5891204728109674 | Training Accuracy = 1.0\n",
      "Epoch 4050/5000: Loss = 0.5831268884974768 | Training Accuracy = 1.0\n",
      "Epoch 4100/5000: Loss = 0.577230319079369 | Training Accuracy = 1.0\n",
      "Epoch 4150/5000: Loss = 0.5714286428385504 | Training Accuracy = 1.0\n",
      "Epoch 4200/5000: Loss = 0.5657197998770649 | Training Accuracy = 1.0\n",
      "Epoch 4250/5000: Loss = 0.5601017897396499 | Training Accuracy = 1.0\n",
      "Epoch 4300/5000: Loss = 0.5545726691490012 | Training Accuracy = 1.0\n",
      "Epoch 4350/5000: Loss = 0.5491305498477116 | Training Accuracy = 1.0\n",
      "Epoch 4400/5000: Loss = 0.5437735965412169 | Training Accuracy = 1.0\n",
      "Epoch 4450/5000: Loss = 0.5385000249363892 | Training Accuracy = 1.0\n",
      "Epoch 4500/5000: Loss = 0.533308099870728 | Training Accuracy = 1.0\n",
      "Epoch 4550/5000: Loss = 0.5281961335273867 | Training Accuracy = 1.0\n",
      "Epoch 4600/5000: Loss = 0.5231624837315303 | Training Accuracy = 1.0\n",
      "Epoch 4650/5000: Loss = 0.5182055523237842 | Training Accuracy = 1.0\n",
      "Epoch 4700/5000: Loss = 0.5133237836067599 | Training Accuracy = 1.0\n",
      "Epoch 4750/5000: Loss = 0.5085156628608767 | Training Accuracy = 1.0\n",
      "Epoch 4800/5000: Loss = 0.5037797149258944 | Training Accuracy = 1.0\n",
      "Epoch 4850/5000: Loss = 0.49911450284479164 | Training Accuracy = 1.0\n",
      "Epoch 4900/5000: Loss = 0.4945186265667828 | Training Accuracy = 1.0\n",
      "Epoch 4950/5000: Loss = 0.48999072170647356 | Training Accuracy = 1.0\n"
     ]
    },
    {
     "data": {
      "text/plain": [
       "0.1356111111111111"
      ]
     },
     "execution_count": 27,
     "metadata": {},
     "output_type": "execute_result"
    }
   ],
   "source": [
    "%time\n",
    "lr = 0.001\n",
    "Lambda = 0\n",
    "train_and_test_loop(5000, lr, Lambda)"
   ]
  },
  {
   "cell_type": "code",
   "execution_count": 28,
   "id": "21a644c7",
   "metadata": {},
   "outputs": [
    {
     "name": "stdout",
     "output_type": "stream",
     "text": [
      "Epoch 0/500: Loss = 2.3346488048933187 | Training Accuracy = 0.05\n",
      "Epoch 50/500: Loss = 2.3345464418972273 | Training Accuracy = 0.05\n",
      "Epoch 100/500: Loss = 2.334444102803384 | Training Accuracy = 0.05\n",
      "Epoch 150/500: Loss = 2.334341787607776 | Training Accuracy = 0.05\n",
      "Epoch 200/500: Loss = 2.334239496306393 | Training Accuracy = 0.05\n",
      "Epoch 250/500: Loss = 2.3341372288952225 | Training Accuracy = 0.05\n",
      "Epoch 300/500: Loss = 2.3340349853702516 | Training Accuracy = 0.05\n",
      "Epoch 350/500: Loss = 2.333932765727467 | Training Accuracy = 0.05\n",
      "Epoch 400/500: Loss = 2.3338305699628545 | Training Accuracy = 0.05\n",
      "Epoch 450/500: Loss = 2.3337283980724015 | Training Accuracy = 0.05\n"
     ]
    },
    {
     "data": {
      "text/plain": [
       "0.10133333333333333"
      ]
     },
     "execution_count": 28,
     "metadata": {},
     "output_type": "execute_result"
    }
   ],
   "source": [
    "lr = 1e-7\n",
    "Lambda = 1e-7\n",
    "train_and_test_loop(500, lr, Lambda)"
   ]
  },
  {
   "cell_type": "code",
   "execution_count": 29,
   "id": "7fb3441c",
   "metadata": {},
   "outputs": [
    {
     "name": "stdout",
     "output_type": "stream",
     "text": [
      "Epoch 0/500: Loss = 2.2786466670756846 | Training Accuracy = 0.15\n",
      "Epoch 50/500: Loss = 1.9135393060885142 | Training Accuracy = 0.25\n",
      "Epoch 100/500: Loss = 1.8293744097558857 | Training Accuracy = 0.35\n",
      "Epoch 150/500: Loss = 1.7760364160333872 | Training Accuracy = 0.45\n",
      "Epoch 200/500: Loss = 1.7317208780997402 | Training Accuracy = 0.45\n",
      "Epoch 250/500: Loss = 1.6917893180928438 | Training Accuracy = 0.5\n",
      "Epoch 300/500: Loss = 1.6546341588287263 | Training Accuracy = 0.55\n",
      "Epoch 350/500: Loss = 1.6195302369248974 | Training Accuracy = 0.55\n",
      "Epoch 400/500: Loss = 1.5860914789441816 | Training Accuracy = 0.55\n",
      "Epoch 450/500: Loss = 1.5540849661071274 | Training Accuracy = 0.55\n"
     ]
    },
    {
     "data": {
      "text/plain": [
       "0.10888888888888888"
      ]
     },
     "execution_count": 29,
     "metadata": {},
     "output_type": "execute_result"
    }
   ],
   "source": [
    "lr = 0.001\n",
    "Lambda = 1e-7\n",
    "train_and_test_loop(500, lr, Lambda)"
   ]
  },
  {
   "cell_type": "code",
   "execution_count": 30,
   "id": "e9c603e4",
   "metadata": {},
   "outputs": [
    {
     "name": "stdout",
     "output_type": "stream",
     "text": [
      "Try 1/10: Best_val_acc: 0.10238888888888889, lr: 0.0013707644653320073, Lambda: 0.00031566199472697723\n",
      "\n",
      "Try 2/10: Best_val_acc: 0.10388888888888889, lr: 0.004039602153031447, Lambda: 0.00031940645310839244\n",
      "\n",
      "Try 3/10: Best_val_acc: 0.10144444444444445, lr: 0.002806621033070606, Lambda: 0.1064902866804325\n",
      "\n",
      "Try 4/10: Best_val_acc: 0.10461111111111111, lr: 0.004651597028915261, Lambda: 0.24188574801993032\n",
      "\n",
      "Try 5/10: Best_val_acc: 0.10816666666666666, lr: 0.007527046857236646, Lambda: 0.001201373327476265\n",
      "\n",
      "Try 6/10: Best_val_acc: 0.11044444444444444, lr: 0.009598547751662526, Lambda: 0.0017694895732593256\n",
      "\n",
      "Try 7/10: Best_val_acc: 0.10938888888888888, lr: 0.003336804936740896, Lambda: 0.005906039697423015\n",
      "\n",
      "Try 8/10: Best_val_acc: 0.10955555555555556, lr: 0.007607084432982394, Lambda: 0.017746326075799262\n",
      "\n",
      "Try 9/10: Best_val_acc: 0.10711111111111112, lr: 0.003116451483967154, Lambda: 0.08296284173261394\n",
      "\n"
     ]
    }
   ],
   "source": [
    "import math\n",
    "for k in range(1, 10):\n",
    "    lr = math.pow(10, np.random.uniform(-3.0, -2.0))\n",
    "    Lambda = math.pow(10, np.random.uniform(-5, 2))\n",
    "    best_acc = train_and_test_loop(100, lr, Lambda, False)\n",
    "    print(\"Try {0}/{1}: Best_val_acc: {2}, lr: {3}, Lambda: {4}\\n\".format(k, 10, best_acc, lr, Lambda))"
   ]
  },
  {
   "cell_type": "markdown",
   "id": "097355f4",
   "metadata": {},
   "source": [
    "## NN Model with reLu activation and Adam Optimizer "
   ]
  },
  {
   "cell_type": "code",
   "execution_count": 31,
   "id": "7b94f05d",
   "metadata": {},
   "outputs": [
    {
     "name": "stdout",
     "output_type": "stream",
     "text": [
      "NN model with sigmoid activations\n",
      "--------------------------------------------------------------------------------\n"
     ]
    }
   ],
   "source": [
    "print('NN model with sigmoid activations'); print('--'*40)\n",
    "# Initialize the neural network classifier\n",
    "model1 = Sequential()\n",
    "\n",
    "# Input Layer - adding input layer and activation functions sigmoid\n",
    "model1.add(Dense(128, input_shape = (1024, )))\n",
    "# Adding activation function\n",
    "model1.add(Activation('sigmoid'))\n",
    "\n",
    "#Hidden Layer 1 - adding first hidden layer\n",
    "model1.add(Dense(64))\n",
    "# Adding activation function\n",
    "model1.add(Activation('sigmoid'))\n",
    "\n",
    "# Output Layer - adding output layer which is of 10 nodes (digits)\n",
    "model1.add(Dense(10))\n",
    "# Adding activation function - softmax for multiclass classification\n",
    "model1.add(Activation('softmax'))"
   ]
  },
  {
   "cell_type": "code",
   "execution_count": 32,
   "id": "c3b88046",
   "metadata": {},
   "outputs": [
    {
     "name": "stdout",
     "output_type": "stream",
     "text": [
      "Model: \"sequential\"\n",
      "_________________________________________________________________\n",
      "Layer (type)                 Output Shape              Param #   \n",
      "=================================================================\n",
      "dense (Dense)                (None, 128)               131200    \n",
      "_________________________________________________________________\n",
      "activation (Activation)      (None, 128)               0         \n",
      "_________________________________________________________________\n",
      "dense_1 (Dense)              (None, 64)                8256      \n",
      "_________________________________________________________________\n",
      "activation_1 (Activation)    (None, 64)                0         \n",
      "_________________________________________________________________\n",
      "dense_2 (Dense)              (None, 10)                650       \n",
      "_________________________________________________________________\n",
      "activation_2 (Activation)    (None, 10)                0         \n",
      "=================================================================\n",
      "Total params: 140,106\n",
      "Trainable params: 140,106\n",
      "Non-trainable params: 0\n",
      "_________________________________________________________________\n"
     ]
    }
   ],
   "source": [
    "model1.summary()"
   ]
  },
  {
   "cell_type": "code",
   "execution_count": 34,
   "id": "35b9b752",
   "metadata": {},
   "outputs": [
    {
     "name": "stdout",
     "output_type": "stream",
     "text": [
      "Wall time: 0 ns\n",
      "NN model with relu activations and adam optimizers\n",
      "--------------------------------------------------------------------------------\n"
     ]
    }
   ],
   "source": [
    "%time\n",
    "print('NN model with relu activations and adam optimizers'); print('--'*40)\n",
    "# Initialize the neural network classifier\n",
    "model2 = Sequential()\n",
    "\n",
    "# Input Layer - adding input layer and activation functions relu\n",
    "model2.add(Dense(128, input_shape = (1024, )))\n",
    "# Adding activation function\n",
    "model2.add(Activation('relu'))\n",
    "\n",
    "#Hidden Layer 1 - adding first hidden layer\n",
    "model2.add(Dense(64))\n",
    "# Adding activation function\n",
    "model2.add(Activation('relu'))\n",
    "\n",
    "# Output Layer - adding output layer which is of 10 nodes (digits)\n",
    "model2.add(Dense(10))\n",
    "# Adding activation function - softmax for multiclass classification\n",
    "model2.add(Activation('softmax')) "
   ]
  },
  {
   "cell_type": "code",
   "execution_count": 37,
   "id": "acd02231",
   "metadata": {},
   "outputs": [
    {
     "name": "stdout",
     "output_type": "stream",
     "text": [
      "Reshaping X data: (n, 32, 32) => (n, 1024)\n",
      "--------------------------------------------------------------------------------\n",
      "Making sure that the values are float so that we can get decimal points after division\n",
      "--------------------------------------------------------------------------------\n",
      "Normalizing the RGB codes by dividing it to the max RGB value\n",
      "--------------------------------------------------------------------------------\n",
      "Converting y data into categorical (one-hot encoding)\n",
      "--------------------------------------------------------------------------------\n"
     ]
    }
   ],
   "source": [
    "\n",
    "h5_SVH = h5py.File(r'C:\\Users\\user\\OneDrive\\Documents\\SVHN_single_grey1.h5','r')\n",
    "# Load the training, validation and test sets\n",
    "X_train = h5_SVH['X_train'][:]\n",
    "y_train_o = h5_SVH['y_train'][:]\n",
    "X_val = h5_SVH['X_val'][:]\n",
    "y_val_o = h5_SVH['y_val'][:]\n",
    "X_test = h5_SVH['X_test'][:]\n",
    "y_test_o = h5_SVH['y_test'][:]\n",
    "\n",
    "print('Reshaping X data: (n, 32, 32) => (n, 1024)'); print('--'*40)\n",
    "X_train = X_train.reshape((X_train.shape[0], -1))\n",
    "X_val = X_val.reshape((X_val.shape[0], -1))\n",
    "X_test = X_test.reshape((X_test.shape[0], -1))\n",
    "\n",
    "print('Making sure that the values are float so that we can get decimal points after division'); print('--'*40)\n",
    "X_train = X_train.astype('float32')\n",
    "X_val = X_val.astype('float32')\n",
    "X_test = X_test.astype('float32')\n",
    "\n",
    "print('Normalizing the RGB codes by dividing it to the max RGB value'); print('--'*40)\n",
    "X_train /= 255\n",
    "X_val /= 255\n",
    "X_test /= 255\n",
    "\n",
    "print('Converting y data into categorical (one-hot encoding)'); print('--'*40)\n",
    "y_train = to_categorical(y_train_o)\n",
    "y_val = to_categorical(y_val_o)\n",
    "y_test = to_categorical(y_test_o)\n"
   ]
  },
  {
   "cell_type": "code",
   "execution_count": null,
   "id": "1a45472f",
   "metadata": {},
   "outputs": [],
   "source": []
  },
  {
   "cell_type": "code",
   "execution_count": null,
   "id": "5532f6e9",
   "metadata": {},
   "outputs": [],
   "source": []
  },
  {
   "cell_type": "code",
   "execution_count": 35,
   "id": "09533181",
   "metadata": {},
   "outputs": [
    {
     "name": "stdout",
     "output_type": "stream",
     "text": [
      "Model: \"sequential_1\"\n",
      "_________________________________________________________________\n",
      "Layer (type)                 Output Shape              Param #   \n",
      "=================================================================\n",
      "dense_3 (Dense)              (None, 128)               131200    \n",
      "_________________________________________________________________\n",
      "activation_3 (Activation)    (None, 128)               0         \n",
      "_________________________________________________________________\n",
      "dense_4 (Dense)              (None, 64)                8256      \n",
      "_________________________________________________________________\n",
      "activation_4 (Activation)    (None, 64)                0         \n",
      "_________________________________________________________________\n",
      "dense_5 (Dense)              (None, 10)                650       \n",
      "_________________________________________________________________\n",
      "activation_5 (Activation)    (None, 10)                0         \n",
      "=================================================================\n",
      "Total params: 140,106\n",
      "Trainable params: 140,106\n",
      "Non-trainable params: 0\n",
      "_________________________________________________________________\n"
     ]
    }
   ],
   "source": [
    "model2.summary() "
   ]
  },
  {
   "cell_type": "code",
   "execution_count": 38,
   "id": "091021c6",
   "metadata": {},
   "outputs": [
    {
     "name": "stdout",
     "output_type": "stream",
     "text": [
      "Wall time: 0 ns\n",
      "NN model with relu activations and adam optimizer\n",
      "--------------------------------------------------------------------------------\n",
      "Epoch 1/100\n",
      "210/210 [==============================] - 1s 5ms/step - loss: 2.3687 - accuracy: 0.1008 - val_loss: 2.3029 - val_accuracy: 0.1000\n",
      "Epoch 2/100\n",
      "210/210 [==============================] - 1s 3ms/step - loss: 2.3029 - accuracy: 0.1007 - val_loss: 2.3033 - val_accuracy: 0.1000\n",
      "Epoch 3/100\n",
      "210/210 [==============================] - 1s 3ms/step - loss: 2.3030 - accuracy: 0.1017 - val_loss: 2.3029 - val_accuracy: 0.1000\n",
      "Epoch 4/100\n",
      "210/210 [==============================] - 1s 3ms/step - loss: 2.3032 - accuracy: 0.0973 - val_loss: 2.3031 - val_accuracy: 0.1000\n",
      "Epoch 5/100\n",
      "210/210 [==============================] - 1s 3ms/step - loss: 2.3032 - accuracy: 0.0989 - val_loss: 2.3035 - val_accuracy: 0.1000\n",
      "Epoch 6/100\n",
      "210/210 [==============================] - 1s 4ms/step - loss: 2.3031 - accuracy: 0.1008 - val_loss: 2.3030 - val_accuracy: 0.1000\n",
      "Epoch 7/100\n",
      "210/210 [==============================] - 1s 4ms/step - loss: 2.3031 - accuracy: 0.0992 - val_loss: 2.3029 - val_accuracy: 0.1000\n",
      "Epoch 8/100\n",
      "210/210 [==============================] - 1s 3ms/step - loss: 2.3031 - accuracy: 0.1012 - val_loss: 2.3028 - val_accuracy: 0.1000\n",
      "Epoch 9/100\n",
      "210/210 [==============================] - 1s 3ms/step - loss: 2.3032 - accuracy: 0.0981 - val_loss: 2.3031 - val_accuracy: 0.1000\n",
      "Epoch 10/100\n",
      "210/210 [==============================] - 1s 3ms/step - loss: 2.3032 - accuracy: 0.0967 - val_loss: 2.3032 - val_accuracy: 0.1000\n",
      "Epoch 11/100\n",
      "210/210 [==============================] - 1s 3ms/step - loss: 2.3032 - accuracy: 0.0987 - val_loss: 2.3029 - val_accuracy: 0.1000\n",
      "Epoch 12/100\n",
      "210/210 [==============================] - 1s 3ms/step - loss: 2.3031 - accuracy: 0.1003 - val_loss: 2.3029 - val_accuracy: 0.1000\n",
      "Epoch 13/100\n",
      "210/210 [==============================] - 1s 3ms/step - loss: 2.3031 - accuracy: 0.0992 - val_loss: 2.3033 - val_accuracy: 0.1000\n",
      "Epoch 14/100\n",
      "210/210 [==============================] - 1s 3ms/step - loss: 2.3032 - accuracy: 0.0994 - val_loss: 2.3028 - val_accuracy: 0.1000\n",
      "Epoch 15/100\n",
      "210/210 [==============================] - 1s 3ms/step - loss: 2.3032 - accuracy: 0.1001 - val_loss: 2.3029 - val_accuracy: 0.1000\n",
      "Epoch 16/100\n",
      "210/210 [==============================] - 1s 3ms/step - loss: 2.3033 - accuracy: 0.1001 - val_loss: 2.3031 - val_accuracy: 0.1000\n",
      "Epoch 17/100\n",
      "210/210 [==============================] - 1s 4ms/step - loss: 2.3032 - accuracy: 0.0985 - val_loss: 2.3034 - val_accuracy: 0.1000\n",
      "Epoch 18/100\n",
      "210/210 [==============================] - 1s 3ms/step - loss: 2.3033 - accuracy: 0.0993 - val_loss: 2.3033 - val_accuracy: 0.1000\n",
      "Epoch 19/100\n",
      "210/210 [==============================] - 1s 3ms/step - loss: 2.3032 - accuracy: 0.0980 - val_loss: 2.3029 - val_accuracy: 0.1000\n",
      "Epoch 20/100\n",
      "210/210 [==============================] - 1s 4ms/step - loss: 2.3033 - accuracy: 0.0998 - val_loss: 2.3032 - val_accuracy: 0.1000\n",
      "Epoch 21/100\n",
      "210/210 [==============================] - 1s 4ms/step - loss: 2.3031 - accuracy: 0.1014 - val_loss: 2.3029 - val_accuracy: 0.1000\n",
      "Epoch 22/100\n",
      "210/210 [==============================] - 1s 4ms/step - loss: 2.3031 - accuracy: 0.1003 - val_loss: 2.3028 - val_accuracy: 0.1000\n",
      "Epoch 23/100\n",
      "210/210 [==============================] - 1s 4ms/step - loss: 2.3031 - accuracy: 0.0993 - val_loss: 2.3028 - val_accuracy: 0.1000\n",
      "Epoch 24/100\n",
      "210/210 [==============================] - 1s 4ms/step - loss: 2.3030 - accuracy: 0.0985 - val_loss: 2.3032 - val_accuracy: 0.1000\n",
      "Epoch 25/100\n",
      "210/210 [==============================] - 1s 3ms/step - loss: 2.3031 - accuracy: 0.1003 - val_loss: 2.3031 - val_accuracy: 0.1000\n",
      "Epoch 26/100\n",
      "210/210 [==============================] - 1s 5ms/step - loss: 2.3033 - accuracy: 0.0995 - val_loss: 2.3029 - val_accuracy: 0.1000\n",
      "Epoch 27/100\n",
      "210/210 [==============================] - 1s 4ms/step - loss: 2.3031 - accuracy: 0.1021 - val_loss: 2.3032 - val_accuracy: 0.1000\n",
      "Epoch 28/100\n",
      "210/210 [==============================] - 1s 3ms/step - loss: 2.3033 - accuracy: 0.0995 - val_loss: 2.3029 - val_accuracy: 0.1000\n",
      "Epoch 29/100\n",
      "210/210 [==============================] - 1s 3ms/step - loss: 2.3031 - accuracy: 0.1004 - val_loss: 2.3030 - val_accuracy: 0.1000\n",
      "Epoch 30/100\n",
      "210/210 [==============================] - 1s 3ms/step - loss: 2.3031 - accuracy: 0.1000 - val_loss: 2.3028 - val_accuracy: 0.1000\n",
      "Epoch 31/100\n",
      "210/210 [==============================] - 1s 3ms/step - loss: 2.3032 - accuracy: 0.0996 - val_loss: 2.3029 - val_accuracy: 0.1000\n",
      "Epoch 32/100\n",
      "210/210 [==============================] - 1s 4ms/step - loss: 2.3032 - accuracy: 0.0990 - val_loss: 2.3034 - val_accuracy: 0.1000\n",
      "Epoch 33/100\n",
      "210/210 [==============================] - 1s 4ms/step - loss: 2.3033 - accuracy: 0.0994 - val_loss: 2.3028 - val_accuracy: 0.1000\n",
      "Epoch 34/100\n",
      "210/210 [==============================] - 1s 4ms/step - loss: 2.3033 - accuracy: 0.0984 - val_loss: 2.3033 - val_accuracy: 0.1000\n",
      "Epoch 35/100\n",
      "210/210 [==============================] - 1s 4ms/step - loss: 2.3033 - accuracy: 0.0985 - val_loss: 2.3030 - val_accuracy: 0.1000\n",
      "Epoch 36/100\n",
      "210/210 [==============================] - 1s 4ms/step - loss: 2.3032 - accuracy: 0.1007 - val_loss: 2.3028 - val_accuracy: 0.1000\n",
      "Epoch 37/100\n",
      "210/210 [==============================] - 1s 4ms/step - loss: 2.3031 - accuracy: 0.0995 - val_loss: 2.3031 - val_accuracy: 0.1000\n",
      "Epoch 38/100\n",
      "210/210 [==============================] - 1s 5ms/step - loss: 2.3031 - accuracy: 0.0992 - val_loss: 2.3028 - val_accuracy: 0.1000\n",
      "Epoch 39/100\n",
      "210/210 [==============================] - 1s 5ms/step - loss: 2.3033 - accuracy: 0.0973 - val_loss: 2.3027 - val_accuracy: 0.1000\n",
      "Epoch 40/100\n",
      "210/210 [==============================] - 1s 5ms/step - loss: 2.3031 - accuracy: 0.0992 - val_loss: 2.3031 - val_accuracy: 0.1000\n",
      "Epoch 41/100\n",
      "210/210 [==============================] - 1s 5ms/step - loss: 2.3033 - accuracy: 0.0995 - val_loss: 2.3029 - val_accuracy: 0.1000\n",
      "Epoch 42/100\n",
      "210/210 [==============================] - 1s 5ms/step - loss: 2.3033 - accuracy: 0.0985 - val_loss: 2.3032 - val_accuracy: 0.1000\n",
      "Epoch 43/100\n",
      "210/210 [==============================] - 1s 6ms/step - loss: 2.3034 - accuracy: 0.0988 - val_loss: 2.3031 - val_accuracy: 0.1000\n",
      "Epoch 44/100\n",
      "210/210 [==============================] - 1s 5ms/step - loss: 2.3032 - accuracy: 0.0973 - val_loss: 2.3028 - val_accuracy: 0.1000\n",
      "Epoch 45/100\n",
      "210/210 [==============================] - 1s 4ms/step - loss: 2.3031 - accuracy: 0.0988 - val_loss: 2.3032 - val_accuracy: 0.1000\n",
      "Epoch 46/100\n",
      "210/210 [==============================] - 1s 4ms/step - loss: 2.3031 - accuracy: 0.0999 - val_loss: 2.3029 - val_accuracy: 0.1000\n",
      "Epoch 47/100\n",
      "210/210 [==============================] - 1s 4ms/step - loss: 2.3031 - accuracy: 0.1013 - val_loss: 2.3028 - val_accuracy: 0.1000\n",
      "Epoch 48/100\n",
      "210/210 [==============================] - 1s 4ms/step - loss: 2.3032 - accuracy: 0.0997 - val_loss: 2.3030 - val_accuracy: 0.1000\n",
      "Epoch 49/100\n",
      "210/210 [==============================] - 1s 4ms/step - loss: 2.3032 - accuracy: 0.0963 - val_loss: 2.3027 - val_accuracy: 0.1000\n",
      "Epoch 50/100\n",
      "210/210 [==============================] - 1s 4ms/step - loss: 2.3032 - accuracy: 0.0991 - val_loss: 2.3027 - val_accuracy: 0.1000\n",
      "Epoch 51/100\n",
      "210/210 [==============================] - 1s 4ms/step - loss: 2.3031 - accuracy: 0.0997 - val_loss: 2.3030 - val_accuracy: 0.1000\n",
      "Epoch 52/100\n",
      "210/210 [==============================] - 1s 4ms/step - loss: 2.3031 - accuracy: 0.1009 - val_loss: 2.3027 - val_accuracy: 0.1000\n",
      "Epoch 53/100\n",
      "210/210 [==============================] - 1s 4ms/step - loss: 2.3031 - accuracy: 0.1005 - val_loss: 2.3031 - val_accuracy: 0.1000\n",
      "Epoch 54/100\n",
      "210/210 [==============================] - 1s 4ms/step - loss: 2.3032 - accuracy: 0.1009 - val_loss: 2.3030 - val_accuracy: 0.1000\n",
      "Epoch 55/100\n",
      "210/210 [==============================] - 1s 4ms/step - loss: 2.3032 - accuracy: 0.1001 - val_loss: 2.3029 - val_accuracy: 0.1000\n",
      "Epoch 56/100\n",
      "210/210 [==============================] - 1s 4ms/step - loss: 2.3032 - accuracy: 0.0999 - val_loss: 2.3030 - val_accuracy: 0.1000\n",
      "Epoch 57/100\n",
      "210/210 [==============================] - 1s 4ms/step - loss: 2.3033 - accuracy: 0.0998 - val_loss: 2.3029 - val_accuracy: 0.1000\n",
      "Epoch 58/100\n",
      "210/210 [==============================] - 1s 4ms/step - loss: 2.3032 - accuracy: 0.0984 - val_loss: 2.3029 - val_accuracy: 0.1000\n",
      "Epoch 59/100\n",
      "210/210 [==============================] - 1s 4ms/step - loss: 2.3030 - accuracy: 0.1025 - val_loss: 2.3034 - val_accuracy: 0.1000\n",
      "Epoch 60/100\n",
      "210/210 [==============================] - 1s 4ms/step - loss: 2.3032 - accuracy: 0.1006 - val_loss: 2.3028 - val_accuracy: 0.1000\n",
      "Epoch 61/100\n",
      "210/210 [==============================] - 1s 4ms/step - loss: 2.3031 - accuracy: 0.1000 - val_loss: 2.3034 - val_accuracy: 0.1000\n",
      "Epoch 62/100\n",
      "210/210 [==============================] - 1s 4ms/step - loss: 2.3032 - accuracy: 0.0990 - val_loss: 2.3029 - val_accuracy: 0.1000\n",
      "Epoch 63/100\n",
      "210/210 [==============================] - 1s 4ms/step - loss: 2.3030 - accuracy: 0.0992 - val_loss: 2.3034 - val_accuracy: 0.1000\n",
      "Epoch 64/100\n",
      "210/210 [==============================] - 1s 4ms/step - loss: 2.3032 - accuracy: 0.0994 - val_loss: 2.3033 - val_accuracy: 0.1000\n",
      "Epoch 65/100\n",
      "210/210 [==============================] - 1s 4ms/step - loss: 2.3031 - accuracy: 0.1011 - val_loss: 2.3033 - val_accuracy: 0.1000\n",
      "Epoch 66/100\n",
      "210/210 [==============================] - 1s 4ms/step - loss: 2.3032 - accuracy: 0.0975 - val_loss: 2.3030 - val_accuracy: 0.1000\n",
      "Epoch 67/100\n",
      "210/210 [==============================] - 1s 4ms/step - loss: 2.3031 - accuracy: 0.0981 - val_loss: 2.3033 - val_accuracy: 0.1000\n",
      "Epoch 68/100\n",
      "210/210 [==============================] - 1s 4ms/step - loss: 2.3031 - accuracy: 0.1000 - val_loss: 2.3030 - val_accuracy: 0.1000\n",
      "Epoch 69/100\n",
      "210/210 [==============================] - 1s 4ms/step - loss: 2.3033 - accuracy: 0.0969 - val_loss: 2.3028 - val_accuracy: 0.1000\n",
      "Epoch 70/100\n",
      "210/210 [==============================] - 1s 4ms/step - loss: 2.3032 - accuracy: 0.0981 - val_loss: 2.3028 - val_accuracy: 0.1000\n",
      "Epoch 71/100\n",
      "210/210 [==============================] - 1s 4ms/step - loss: 2.3032 - accuracy: 0.1012 - val_loss: 2.3028 - val_accuracy: 0.1000\n",
      "Epoch 72/100\n",
      "210/210 [==============================] - 1s 4ms/step - loss: 2.3033 - accuracy: 0.0984 - val_loss: 2.3027 - val_accuracy: 0.1000\n",
      "Epoch 73/100\n",
      "210/210 [==============================] - 1s 4ms/step - loss: 2.3032 - accuracy: 0.1028 - val_loss: 2.3030 - val_accuracy: 0.1000\n",
      "Epoch 74/100\n",
      "210/210 [==============================] - 1s 4ms/step - loss: 2.3033 - accuracy: 0.0985 - val_loss: 2.3027 - val_accuracy: 0.1000\n",
      "Epoch 75/100\n",
      "210/210 [==============================] - 1s 4ms/step - loss: 2.3033 - accuracy: 0.0996 - val_loss: 2.3031 - val_accuracy: 0.1000\n",
      "Epoch 76/100\n",
      "210/210 [==============================] - 1s 4ms/step - loss: 2.3033 - accuracy: 0.0995 - val_loss: 2.3028 - val_accuracy: 0.1000\n",
      "Epoch 77/100\n",
      "210/210 [==============================] - 1s 4ms/step - loss: 2.3031 - accuracy: 0.1004 - val_loss: 2.3037 - val_accuracy: 0.1000\n",
      "Epoch 78/100\n",
      "210/210 [==============================] - 1s 4ms/step - loss: 2.3033 - accuracy: 0.0970 - val_loss: 2.3029 - val_accuracy: 0.1000\n",
      "Epoch 79/100\n",
      "210/210 [==============================] - 1s 4ms/step - loss: 2.3031 - accuracy: 0.0972 - val_loss: 2.3031 - val_accuracy: 0.1000\n",
      "Epoch 80/100\n",
      "210/210 [==============================] - 1s 4ms/step - loss: 2.3031 - accuracy: 0.1003 - val_loss: 2.3035 - val_accuracy: 0.1000\n",
      "Epoch 81/100\n",
      "210/210 [==============================] - 1s 4ms/step - loss: 2.3033 - accuracy: 0.0980 - val_loss: 2.3028 - val_accuracy: 0.1000\n",
      "Epoch 82/100\n",
      "210/210 [==============================] - 1s 4ms/step - loss: 2.3032 - accuracy: 0.0995 - val_loss: 2.3030 - val_accuracy: 0.1000\n",
      "Epoch 83/100\n",
      "210/210 [==============================] - 1s 4ms/step - loss: 2.3032 - accuracy: 0.1006 - val_loss: 2.3028 - val_accuracy: 0.1000\n",
      "Epoch 84/100\n",
      "210/210 [==============================] - 1s 4ms/step - loss: 2.3030 - accuracy: 0.1014 - val_loss: 2.3032 - val_accuracy: 0.1000\n",
      "Epoch 85/100\n",
      "210/210 [==============================] - 1s 4ms/step - loss: 2.3032 - accuracy: 0.0987 - val_loss: 2.3031 - val_accuracy: 0.1000\n",
      "Epoch 86/100\n",
      "210/210 [==============================] - 1s 4ms/step - loss: 2.3032 - accuracy: 0.1008 - val_loss: 2.3031 - val_accuracy: 0.1000\n",
      "Epoch 87/100\n",
      "210/210 [==============================] - 1s 4ms/step - loss: 2.3030 - accuracy: 0.1001 - val_loss: 2.3038 - val_accuracy: 0.1000\n",
      "Epoch 88/100\n",
      "210/210 [==============================] - 1s 4ms/step - loss: 2.3031 - accuracy: 0.0991 - val_loss: 2.3032 - val_accuracy: 0.1000\n",
      "Epoch 89/100\n",
      "210/210 [==============================] - 1s 5ms/step - loss: 2.3031 - accuracy: 0.0987 - val_loss: 2.3028 - val_accuracy: 0.1000\n",
      "Epoch 90/100\n",
      "210/210 [==============================] - 1s 5ms/step - loss: 2.3033 - accuracy: 0.0985 - val_loss: 2.3029 - val_accuracy: 0.1000\n",
      "Epoch 91/100\n",
      "210/210 [==============================] - 1s 5ms/step - loss: 2.3031 - accuracy: 0.1012 - val_loss: 2.3032 - val_accuracy: 0.1000\n",
      "Epoch 92/100\n",
      "210/210 [==============================] - 1s 4ms/step - loss: 2.3032 - accuracy: 0.0998 - val_loss: 2.3030 - val_accuracy: 0.1000\n",
      "Epoch 93/100\n",
      "210/210 [==============================] - 1s 5ms/step - loss: 2.3032 - accuracy: 0.0971 - val_loss: 2.3032 - val_accuracy: 0.1000\n",
      "Epoch 94/100\n",
      "210/210 [==============================] - 1s 4ms/step - loss: 2.3032 - accuracy: 0.1005 - val_loss: 2.3030 - val_accuracy: 0.1000\n",
      "Epoch 95/100\n",
      "210/210 [==============================] - 1s 4ms/step - loss: 2.3032 - accuracy: 0.1011 - val_loss: 2.3029 - val_accuracy: 0.1000\n",
      "Epoch 96/100\n",
      "210/210 [==============================] - 1s 4ms/step - loss: 2.3030 - accuracy: 0.1013 - val_loss: 2.3029 - val_accuracy: 0.1000\n",
      "Epoch 97/100\n",
      "210/210 [==============================] - 1s 4ms/step - loss: 2.3029 - accuracy: 0.1008 - val_loss: 2.3033 - val_accuracy: 0.1000\n",
      "Epoch 98/100\n",
      "210/210 [==============================] - 1s 4ms/step - loss: 2.3032 - accuracy: 0.1011 - val_loss: 2.3030 - val_accuracy: 0.1000\n",
      "Epoch 99/100\n",
      "210/210 [==============================] - 1s 4ms/step - loss: 2.3032 - accuracy: 0.1006 - val_loss: 2.3029 - val_accuracy: 0.1000\n",
      "Epoch 100/100\n",
      "210/210 [==============================] - 1s 4ms/step - loss: 2.3031 - accuracy: 0.0996 - val_loss: 2.3029 - val_accuracy: 0.1000\n"
     ]
    }
   ],
   "source": [
    "%time\n",
    "print('NN model with relu activations and adam optimizer'); print('--'*40)\n",
    "# compiling the neural network classifier, adam optimizer\n",
    "adam = optimizers.Adam(lr = 0.01)\n",
    "model2.compile(optimizer = adam, loss = 'categorical_crossentropy', metrics = ['accuracy'])\n",
    "\n",
    "# Fitting the neural network for training\n",
    "history = model2.fit(X_train, y_train, validation_data = (X_val, y_val), batch_size = 200, epochs = 100, verbose = 1) "
   ]
  },
  {
   "cell_type": "code",
   "execution_count": 39,
   "id": "cd0ef0ad",
   "metadata": {},
   "outputs": [
    {
     "name": "stdout",
     "output_type": "stream",
     "text": [
      "Wall time: 0 ns\n",
      "NN model with relu activations and adam optimizer\n",
      "--------------------------------------------------------------------------------\n",
      "Epoch 1/100\n",
      "210/210 [==============================] - 1s 4ms/step - loss: 2.3029 - accuracy: 0.0997 - val_loss: 2.3026 - val_accuracy: 0.1000\n",
      "Epoch 2/100\n",
      "210/210 [==============================] - 1s 4ms/step - loss: 2.3027 - accuracy: 0.0999 - val_loss: 2.3026 - val_accuracy: 0.1000\n",
      "Epoch 3/100\n",
      "210/210 [==============================] - 1s 3ms/step - loss: 2.3026 - accuracy: 0.1019 - val_loss: 2.3026 - val_accuracy: 0.1000\n",
      "Epoch 4/100\n",
      "210/210 [==============================] - 1s 4ms/step - loss: 2.3026 - accuracy: 0.1016 - val_loss: 2.3026 - val_accuracy: 0.1000\n",
      "Epoch 5/100\n",
      "210/210 [==============================] - 1s 3ms/step - loss: 2.3027 - accuracy: 0.1013 - val_loss: 2.3026 - val_accuracy: 0.1000\n",
      "Epoch 6/100\n",
      "210/210 [==============================] - 1s 4ms/step - loss: 2.3026 - accuracy: 0.1019 - val_loss: 2.3026 - val_accuracy: 0.1000\n",
      "Epoch 7/100\n",
      "210/210 [==============================] - 1s 3ms/step - loss: 2.3026 - accuracy: 0.1019 - val_loss: 2.3026 - val_accuracy: 0.1000\n",
      "Epoch 8/100\n",
      "210/210 [==============================] - 1s 3ms/step - loss: 2.3027 - accuracy: 0.1008 - val_loss: 2.3026 - val_accuracy: 0.1000\n",
      "Epoch 9/100\n",
      "210/210 [==============================] - 1s 3ms/step - loss: 2.3026 - accuracy: 0.1019 - val_loss: 2.3026 - val_accuracy: 0.1000\n",
      "Epoch 10/100\n",
      "210/210 [==============================] - 1s 4ms/step - loss: 2.3026 - accuracy: 0.1019 - val_loss: 2.3026 - val_accuracy: 0.1000\n",
      "Epoch 11/100\n",
      "210/210 [==============================] - 1s 4ms/step - loss: 2.3026 - accuracy: 0.1019 - val_loss: 2.3026 - val_accuracy: 0.1000\n",
      "Epoch 12/100\n",
      "210/210 [==============================] - 1s 4ms/step - loss: 2.3027 - accuracy: 0.1015 - val_loss: 2.3026 - val_accuracy: 0.1000\n",
      "Epoch 13/100\n",
      "210/210 [==============================] - 1s 4ms/step - loss: 2.3026 - accuracy: 0.1019 - val_loss: 2.3026 - val_accuracy: 0.1000\n",
      "Epoch 14/100\n",
      "210/210 [==============================] - 1s 4ms/step - loss: 2.3026 - accuracy: 0.1013 - val_loss: 2.3026 - val_accuracy: 0.1000\n",
      "Epoch 15/100\n",
      "210/210 [==============================] - 1s 4ms/step - loss: 2.3027 - accuracy: 0.1010 - val_loss: 2.3026 - val_accuracy: 0.1000\n",
      "Epoch 16/100\n",
      "210/210 [==============================] - 1s 4ms/step - loss: 2.3027 - accuracy: 0.1019 - val_loss: 2.3026 - val_accuracy: 0.1000\n",
      "Epoch 17/100\n",
      "210/210 [==============================] - 1s 4ms/step - loss: 2.3026 - accuracy: 0.1005 - val_loss: 2.3026 - val_accuracy: 0.1000\n",
      "Epoch 18/100\n",
      "210/210 [==============================] - 1s 4ms/step - loss: 2.3026 - accuracy: 0.1019 - val_loss: 2.3026 - val_accuracy: 0.1000\n",
      "Epoch 19/100\n",
      "210/210 [==============================] - 1s 4ms/step - loss: 2.3026 - accuracy: 0.1015 - val_loss: 2.3026 - val_accuracy: 0.1000\n",
      "Epoch 20/100\n",
      "210/210 [==============================] - 1s 4ms/step - loss: 2.3026 - accuracy: 0.1010 - val_loss: 2.3026 - val_accuracy: 0.1000\n",
      "Epoch 21/100\n",
      "210/210 [==============================] - 1s 4ms/step - loss: 2.3026 - accuracy: 0.1019 - val_loss: 2.3026 - val_accuracy: 0.1000\n",
      "Epoch 22/100\n",
      "210/210 [==============================] - 1s 4ms/step - loss: 2.3026 - accuracy: 0.1019 - val_loss: 2.3026 - val_accuracy: 0.1000\n",
      "Epoch 23/100\n",
      "210/210 [==============================] - 1s 4ms/step - loss: 2.3026 - accuracy: 0.1019 - val_loss: 2.3026 - val_accuracy: 0.1000\n",
      "Epoch 24/100\n",
      "210/210 [==============================] - 1s 4ms/step - loss: 2.3026 - accuracy: 0.1019 - val_loss: 2.3026 - val_accuracy: 0.1000\n",
      "Epoch 25/100\n",
      "210/210 [==============================] - 1s 4ms/step - loss: 2.3026 - accuracy: 0.0996 - val_loss: 2.3026 - val_accuracy: 0.1000\n",
      "Epoch 26/100\n",
      "210/210 [==============================] - 1s 5ms/step - loss: 2.3026 - accuracy: 0.1019 - val_loss: 2.3026 - val_accuracy: 0.1000\n",
      "Epoch 27/100\n",
      "210/210 [==============================] - 1s 6ms/step - loss: 2.3026 - accuracy: 0.1019 - val_loss: 2.3026 - val_accuracy: 0.1000\n",
      "Epoch 28/100\n",
      "210/210 [==============================] - 1s 4ms/step - loss: 2.3026 - accuracy: 0.1007 - val_loss: 2.3026 - val_accuracy: 0.1000\n",
      "Epoch 29/100\n",
      "210/210 [==============================] - 1s 4ms/step - loss: 2.3026 - accuracy: 0.1019 - val_loss: 2.3026 - val_accuracy: 0.1000\n",
      "Epoch 30/100\n",
      "210/210 [==============================] - 1s 4ms/step - loss: 2.3026 - accuracy: 0.1019 - val_loss: 2.3026 - val_accuracy: 0.1000\n",
      "Epoch 31/100\n",
      "210/210 [==============================] - 1s 4ms/step - loss: 2.3026 - accuracy: 0.1019 - val_loss: 2.3026 - val_accuracy: 0.1000\n",
      "Epoch 32/100\n",
      "210/210 [==============================] - 1s 4ms/step - loss: 2.3026 - accuracy: 0.1019 - val_loss: 2.3026 - val_accuracy: 0.1000\n",
      "Epoch 33/100\n",
      "210/210 [==============================] - 1s 4ms/step - loss: 2.3026 - accuracy: 0.1019 - val_loss: 2.3026 - val_accuracy: 0.1000\n",
      "Epoch 34/100\n",
      "210/210 [==============================] - 1s 4ms/step - loss: 2.3026 - accuracy: 0.1019 - val_loss: 2.3026 - val_accuracy: 0.1000\n",
      "Epoch 35/100\n",
      "210/210 [==============================] - 1s 4ms/step - loss: 2.3026 - accuracy: 0.1005 - val_loss: 2.3026 - val_accuracy: 0.1000\n",
      "Epoch 36/100\n",
      "210/210 [==============================] - 1s 4ms/step - loss: 2.3026 - accuracy: 0.1008 - val_loss: 2.3026 - val_accuracy: 0.1000\n",
      "Epoch 37/100\n",
      "210/210 [==============================] - 1s 4ms/step - loss: 2.3026 - accuracy: 0.1019 - val_loss: 2.3026 - val_accuracy: 0.1000\n",
      "Epoch 38/100\n",
      "210/210 [==============================] - 1s 4ms/step - loss: 2.3027 - accuracy: 0.1014 - val_loss: 2.3026 - val_accuracy: 0.1000\n",
      "Epoch 39/100\n",
      "210/210 [==============================] - 1s 4ms/step - loss: 2.3026 - accuracy: 0.1019 - val_loss: 2.3026 - val_accuracy: 0.1000\n",
      "Epoch 40/100\n",
      "210/210 [==============================] - 1s 4ms/step - loss: 2.3027 - accuracy: 0.1006 - val_loss: 2.3026 - val_accuracy: 0.1000\n",
      "Epoch 41/100\n",
      "210/210 [==============================] - 1s 4ms/step - loss: 2.3026 - accuracy: 0.1019 - val_loss: 2.3026 - val_accuracy: 0.1000\n",
      "Epoch 42/100\n",
      "210/210 [==============================] - 1s 4ms/step - loss: 2.3026 - accuracy: 0.1019 - val_loss: 2.3026 - val_accuracy: 0.1000\n",
      "Epoch 43/100\n",
      "210/210 [==============================] - 1s 4ms/step - loss: 2.3027 - accuracy: 0.1019 - val_loss: 2.3026 - val_accuracy: 0.1000\n",
      "Epoch 44/100\n",
      "210/210 [==============================] - 1s 4ms/step - loss: 2.3026 - accuracy: 0.1019 - val_loss: 2.3026 - val_accuracy: 0.1000\n",
      "Epoch 45/100\n",
      "210/210 [==============================] - 1s 4ms/step - loss: 2.3026 - accuracy: 0.1011 - val_loss: 2.3026 - val_accuracy: 0.1000\n",
      "Epoch 46/100\n",
      "210/210 [==============================] - 1s 4ms/step - loss: 2.3027 - accuracy: 0.1019 - val_loss: 2.3026 - val_accuracy: 0.1000\n",
      "Epoch 47/100\n",
      "210/210 [==============================] - 1s 4ms/step - loss: 2.3026 - accuracy: 0.1019 - val_loss: 2.3026 - val_accuracy: 0.1000\n",
      "Epoch 48/100\n",
      "210/210 [==============================] - 1s 4ms/step - loss: 2.3027 - accuracy: 0.1007 - val_loss: 2.3026 - val_accuracy: 0.1000\n",
      "Epoch 49/100\n",
      "210/210 [==============================] - 1s 4ms/step - loss: 2.3026 - accuracy: 0.1019 - val_loss: 2.3026 - val_accuracy: 0.1000\n",
      "Epoch 50/100\n",
      "210/210 [==============================] - 1s 4ms/step - loss: 2.3026 - accuracy: 0.1019 - val_loss: 2.3026 - val_accuracy: 0.1000\n",
      "Epoch 51/100\n",
      "210/210 [==============================] - 1s 4ms/step - loss: 2.3026 - accuracy: 0.1019 - val_loss: 2.3026 - val_accuracy: 0.1000\n",
      "Epoch 52/100\n",
      "210/210 [==============================] - 1s 4ms/step - loss: 2.3026 - accuracy: 0.1019 - val_loss: 2.3026 - val_accuracy: 0.1000\n",
      "Epoch 53/100\n",
      "210/210 [==============================] - 1s 4ms/step - loss: 2.3026 - accuracy: 0.1008 - val_loss: 2.3026 - val_accuracy: 0.1000\n",
      "Epoch 54/100\n",
      "210/210 [==============================] - 1s 4ms/step - loss: 2.3027 - accuracy: 0.1019 - val_loss: 2.3026 - val_accuracy: 0.1000\n",
      "Epoch 55/100\n",
      "210/210 [==============================] - 1s 4ms/step - loss: 2.3027 - accuracy: 0.1006 - val_loss: 2.3026 - val_accuracy: 0.1000\n",
      "Epoch 56/100\n",
      "210/210 [==============================] - 1s 4ms/step - loss: 2.3026 - accuracy: 0.1007 - val_loss: 2.3026 - val_accuracy: 0.1000\n",
      "Epoch 57/100\n",
      "210/210 [==============================] - 1s 4ms/step - loss: 2.3026 - accuracy: 0.1019 - val_loss: 2.3026 - val_accuracy: 0.1000\n",
      "Epoch 58/100\n",
      "210/210 [==============================] - 1s 4ms/step - loss: 2.3026 - accuracy: 0.1011 - val_loss: 2.3026 - val_accuracy: 0.1000\n",
      "Epoch 59/100\n",
      "210/210 [==============================] - 1s 4ms/step - loss: 2.3026 - accuracy: 0.1006 - val_loss: 2.3026 - val_accuracy: 0.1000\n",
      "Epoch 60/100\n",
      "210/210 [==============================] - 1s 4ms/step - loss: 2.3027 - accuracy: 0.1019 - val_loss: 2.3026 - val_accuracy: 0.1000\n",
      "Epoch 61/100\n",
      "210/210 [==============================] - 1s 4ms/step - loss: 2.3026 - accuracy: 0.1019 - val_loss: 2.3026 - val_accuracy: 0.1000\n",
      "Epoch 62/100\n",
      "210/210 [==============================] - 1s 4ms/step - loss: 2.3027 - accuracy: 0.1011 - val_loss: 2.3026 - val_accuracy: 0.1000\n",
      "Epoch 63/100\n",
      "210/210 [==============================] - 1s 4ms/step - loss: 2.3026 - accuracy: 0.1007 - val_loss: 2.3026 - val_accuracy: 0.1000\n",
      "Epoch 64/100\n",
      "210/210 [==============================] - 1s 4ms/step - loss: 2.3026 - accuracy: 0.1019 - val_loss: 2.3026 - val_accuracy: 0.1000\n",
      "Epoch 65/100\n",
      "210/210 [==============================] - 1s 4ms/step - loss: 2.3027 - accuracy: 0.1007 - val_loss: 2.3026 - val_accuracy: 0.1000\n",
      "Epoch 66/100\n",
      "210/210 [==============================] - 1s 4ms/step - loss: 2.3027 - accuracy: 0.1019 - val_loss: 2.3026 - val_accuracy: 0.1000\n",
      "Epoch 67/100\n",
      "210/210 [==============================] - 1s 4ms/step - loss: 2.3026 - accuracy: 0.1019 - val_loss: 2.3026 - val_accuracy: 0.1000\n",
      "Epoch 68/100\n",
      "210/210 [==============================] - 1s 4ms/step - loss: 2.3026 - accuracy: 0.1019 - val_loss: 2.3026 - val_accuracy: 0.1000\n",
      "Epoch 69/100\n",
      "210/210 [==============================] - 1s 4ms/step - loss: 2.3026 - accuracy: 0.1019 - val_loss: 2.3026 - val_accuracy: 0.1000\n",
      "Epoch 70/100\n",
      "210/210 [==============================] - 1s 4ms/step - loss: 2.3026 - accuracy: 0.1002 - val_loss: 2.3026 - val_accuracy: 0.1000\n",
      "Epoch 71/100\n",
      "210/210 [==============================] - 1s 4ms/step - loss: 2.3026 - accuracy: 0.1019 - val_loss: 2.3026 - val_accuracy: 0.1000\n",
      "Epoch 72/100\n",
      "210/210 [==============================] - 1s 4ms/step - loss: 2.3026 - accuracy: 0.1019 - val_loss: 2.3026 - val_accuracy: 0.1000\n",
      "Epoch 73/100\n",
      "210/210 [==============================] - 1s 4ms/step - loss: 2.3026 - accuracy: 0.1010 - val_loss: 2.3026 - val_accuracy: 0.1000\n",
      "Epoch 74/100\n",
      "210/210 [==============================] - 1s 4ms/step - loss: 2.3026 - accuracy: 0.1006 - val_loss: 2.3026 - val_accuracy: 0.1000\n",
      "Epoch 75/100\n",
      "210/210 [==============================] - 1s 5ms/step - loss: 2.3026 - accuracy: 0.1012 - val_loss: 2.3026 - val_accuracy: 0.1000\n",
      "Epoch 76/100\n",
      "210/210 [==============================] - 1s 5ms/step - loss: 2.3026 - accuracy: 0.1019 - val_loss: 2.3026 - val_accuracy: 0.1000\n",
      "Epoch 77/100\n",
      "210/210 [==============================] - 1s 4ms/step - loss: 2.3026 - accuracy: 0.1019 - val_loss: 2.3026 - val_accuracy: 0.1000\n",
      "Epoch 78/100\n",
      "210/210 [==============================] - 1s 6ms/step - loss: 2.3026 - accuracy: 0.1019 - val_loss: 2.3026 - val_accuracy: 0.1000\n",
      "Epoch 79/100\n",
      "210/210 [==============================] - 1s 6ms/step - loss: 2.3026 - accuracy: 0.1008 - val_loss: 2.3026 - val_accuracy: 0.1000\n",
      "Epoch 80/100\n",
      "210/210 [==============================] - 1s 6ms/step - loss: 2.3026 - accuracy: 0.1019 - val_loss: 2.3026 - val_accuracy: 0.1000\n",
      "Epoch 81/100\n",
      "210/210 [==============================] - 1s 6ms/step - loss: 2.3026 - accuracy: 0.1009 - val_loss: 2.3026 - val_accuracy: 0.1000\n",
      "Epoch 82/100\n",
      "210/210 [==============================] - 1s 5ms/step - loss: 2.3026 - accuracy: 0.0998 - val_loss: 2.3026 - val_accuracy: 0.1000\n",
      "Epoch 83/100\n",
      "210/210 [==============================] - 1s 4ms/step - loss: 2.3026 - accuracy: 0.1019 - val_loss: 2.3026 - val_accuracy: 0.1000\n",
      "Epoch 84/100\n",
      "210/210 [==============================] - 1s 4ms/step - loss: 2.3027 - accuracy: 0.1011 - val_loss: 2.3026 - val_accuracy: 0.1000\n",
      "Epoch 85/100\n",
      "210/210 [==============================] - 1s 4ms/step - loss: 2.3026 - accuracy: 0.1019 - val_loss: 2.3026 - val_accuracy: 0.1000\n",
      "Epoch 86/100\n",
      "210/210 [==============================] - 1s 4ms/step - loss: 2.3026 - accuracy: 0.1019 - val_loss: 2.3026 - val_accuracy: 0.1000\n",
      "Epoch 87/100\n",
      "210/210 [==============================] - 1s 4ms/step - loss: 2.3027 - accuracy: 0.1012 - val_loss: 2.3026 - val_accuracy: 0.1000\n",
      "Epoch 88/100\n",
      "210/210 [==============================] - 1s 4ms/step - loss: 2.3026 - accuracy: 0.1019 - val_loss: 2.3026 - val_accuracy: 0.1000\n",
      "Epoch 89/100\n",
      "210/210 [==============================] - 1s 4ms/step - loss: 2.3026 - accuracy: 0.1019 - val_loss: 2.3026 - val_accuracy: 0.1000\n",
      "Epoch 90/100\n",
      "210/210 [==============================] - 1s 4ms/step - loss: 2.3027 - accuracy: 0.1015 - val_loss: 2.3026 - val_accuracy: 0.1000\n",
      "Epoch 91/100\n",
      "210/210 [==============================] - 1s 4ms/step - loss: 2.3026 - accuracy: 0.1019 - val_loss: 2.3026 - val_accuracy: 0.1000\n",
      "Epoch 92/100\n",
      "210/210 [==============================] - 1s 4ms/step - loss: 2.3026 - accuracy: 0.1010 - val_loss: 2.3026 - val_accuracy: 0.1000\n",
      "Epoch 93/100\n",
      "210/210 [==============================] - 1s 4ms/step - loss: 2.3026 - accuracy: 0.1019 - val_loss: 2.3026 - val_accuracy: 0.1000\n",
      "Epoch 94/100\n",
      "210/210 [==============================] - 1s 4ms/step - loss: 2.3026 - accuracy: 0.1019 - val_loss: 2.3026 - val_accuracy: 0.1000\n",
      "Epoch 95/100\n",
      "210/210 [==============================] - 1s 4ms/step - loss: 2.3026 - accuracy: 0.1011 - val_loss: 2.3026 - val_accuracy: 0.1000\n",
      "Epoch 96/100\n",
      "210/210 [==============================] - 1s 4ms/step - loss: 2.3026 - accuracy: 0.1019 - val_loss: 2.3026 - val_accuracy: 0.1000\n",
      "Epoch 97/100\n",
      "210/210 [==============================] - 1s 4ms/step - loss: 2.3026 - accuracy: 0.1005 - val_loss: 2.3026 - val_accuracy: 0.1000\n",
      "Epoch 98/100\n",
      "210/210 [==============================] - 1s 4ms/step - loss: 2.3027 - accuracy: 0.1019 - val_loss: 2.3026 - val_accuracy: 0.1000\n",
      "Epoch 99/100\n",
      "210/210 [==============================] - 1s 5ms/step - loss: 2.3026 - accuracy: 0.1019 - val_loss: 2.3026 - val_accuracy: 0.1000\n",
      "Epoch 100/100\n",
      "210/210 [==============================] - 1s 4ms/step - loss: 2.3026 - accuracy: 0.1019 - val_loss: 2.3026 - val_accuracy: 0.1000\n"
     ]
    }
   ],
   "source": [
    "%time\n",
    "print('NN model with relu activations and adam optimizer'); print('--'*40)\n",
    "# compiling the neural network classifier, adam optimizer\n",
    "adam = optimizers.Adam(lr = 0.001)\n",
    "model2.compile(optimizer = adam, loss = 'categorical_crossentropy', metrics = ['accuracy'])\n",
    "\n",
    "# Fitting the neural network for training\n",
    "history = model2.fit(X_train, y_train, validation_data = (X_val, y_val), batch_size = 200, epochs = 100, verbose = 1) "
   ]
  },
  {
   "cell_type": "code",
   "execution_count": 40,
   "id": "69ca45ab",
   "metadata": {},
   "outputs": [
    {
     "name": "stdout",
     "output_type": "stream",
     "text": [
      "Evaluate NN model with relu activations\n",
      "--------------------------------------------------------------------------------\n",
      "1875/1875 [==============================] - 2s 1ms/step - loss: 2.3026 - accuracy: 0.1000\n",
      "Validation accuracy: 10.0\n"
     ]
    }
   ],
   "source": [
    "print('Evaluate NN model with relu activations'); print('--'*40)\n",
    "results2 = model2.evaluate(X_val, y_val)\n",
    "print('Validation accuracy: {}'.format(round(results2[1]*100, 2), '%')) "
   ]
  },
  {
   "cell_type": "code",
   "execution_count": 41,
   "id": "a1ba0242",
   "metadata": {},
   "outputs": [
    {
     "name": "stdout",
     "output_type": "stream",
     "text": [
      "NN model with relu activations and changing number of activators\n",
      "--------------------------------------------------------------------------------\n"
     ]
    }
   ],
   "source": [
    "print('NN model with relu activations and changing number of activators'); print('--'*40)\n",
    "# Initialize the neural network classifier\n",
    "model3 = Sequential()\n",
    "\n",
    "# Input Layer - adding input layer and activation functions relu\n",
    "model3.add(Dense(256, input_shape = (1024, )))\n",
    "# Adding activation function\n",
    "model3.add(Activation('relu'))\n",
    "\n",
    "#Hidden Layer 1 - adding first hidden layer\n",
    "model3.add(Dense(128))\n",
    "# Adding activation function\n",
    "model3.add(Activation('relu'))\n",
    "\n",
    "#Hidden Layer 2 - Adding second hidden layer\n",
    "model3.add(Dense(64))\n",
    "# Adding activation function\n",
    "model3.add(Activation('relu'))\n",
    "\n",
    "# Output Layer - adding output layer which is of 10 nodes (digits)\n",
    "model3.add(Dense(10))\n",
    "# Adding activation function - softmax for multiclass classification\n",
    "model3.add(Activation('softmax')) "
   ]
  },
  {
   "cell_type": "code",
   "execution_count": 42,
   "id": "9abd2847",
   "metadata": {},
   "outputs": [
    {
     "name": "stdout",
     "output_type": "stream",
     "text": [
      "Model: \"sequential_2\"\n",
      "_________________________________________________________________\n",
      "Layer (type)                 Output Shape              Param #   \n",
      "=================================================================\n",
      "dense_6 (Dense)              (None, 256)               262400    \n",
      "_________________________________________________________________\n",
      "activation_6 (Activation)    (None, 256)               0         \n",
      "_________________________________________________________________\n",
      "dense_7 (Dense)              (None, 128)               32896     \n",
      "_________________________________________________________________\n",
      "activation_7 (Activation)    (None, 128)               0         \n",
      "_________________________________________________________________\n",
      "dense_8 (Dense)              (None, 64)                8256      \n",
      "_________________________________________________________________\n",
      "activation_8 (Activation)    (None, 64)                0         \n",
      "_________________________________________________________________\n",
      "dense_9 (Dense)              (None, 10)                650       \n",
      "_________________________________________________________________\n",
      "activation_9 (Activation)    (None, 10)                0         \n",
      "=================================================================\n",
      "Total params: 304,202\n",
      "Trainable params: 304,202\n",
      "Non-trainable params: 0\n",
      "_________________________________________________________________\n"
     ]
    }
   ],
   "source": [
    "model3.summary() "
   ]
  },
  {
   "cell_type": "code",
   "execution_count": 43,
   "id": "26c5a5e4",
   "metadata": {},
   "outputs": [
    {
     "name": "stdout",
     "output_type": "stream",
     "text": [
      "Epoch 1/100\n",
      "210/210 [==============================] - 1s 7ms/step - loss: 2.2804 - accuracy: 0.1313 - val_loss: 2.1425 - val_accuracy: 0.2257\n",
      "Epoch 2/100\n",
      "210/210 [==============================] - 1s 7ms/step - loss: 1.8093 - accuracy: 0.3631 - val_loss: 1.5236 - val_accuracy: 0.4864\n",
      "Epoch 3/100\n",
      "210/210 [==============================] - 1s 6ms/step - loss: 1.3509 - accuracy: 0.5674 - val_loss: 1.1959 - val_accuracy: 0.6248\n",
      "Epoch 4/100\n",
      "210/210 [==============================] - 1s 6ms/step - loss: 1.1606 - accuracy: 0.6355 - val_loss: 1.0709 - val_accuracy: 0.6640\n",
      "Epoch 5/100\n",
      "210/210 [==============================] - 1s 6ms/step - loss: 1.0558 - accuracy: 0.6736 - val_loss: 0.9722 - val_accuracy: 0.7037\n",
      "Epoch 6/100\n",
      "210/210 [==============================] - 1s 6ms/step - loss: 0.9857 - accuracy: 0.6934 - val_loss: 0.9969 - val_accuracy: 0.6906\n",
      "Epoch 7/100\n",
      "210/210 [==============================] - 1s 6ms/step - loss: 0.9309 - accuracy: 0.7118 - val_loss: 0.8921 - val_accuracy: 0.7246\n",
      "Epoch 8/100\n",
      "210/210 [==============================] - 1s 6ms/step - loss: 0.8954 - accuracy: 0.7235 - val_loss: 0.8983 - val_accuracy: 0.7207\n",
      "Epoch 9/100\n",
      "210/210 [==============================] - 1s 6ms/step - loss: 0.8615 - accuracy: 0.7345 - val_loss: 0.8540 - val_accuracy: 0.7376\n",
      "Epoch 10/100\n",
      "210/210 [==============================] - 2s 7ms/step - loss: 0.8139 - accuracy: 0.7489 - val_loss: 0.8029 - val_accuracy: 0.7529\n",
      "Epoch 11/100\n",
      "210/210 [==============================] - 2s 7ms/step - loss: 0.7963 - accuracy: 0.7544 - val_loss: 0.7692 - val_accuracy: 0.7647\n",
      "Epoch 12/100\n",
      "210/210 [==============================] - 2s 8ms/step - loss: 0.7686 - accuracy: 0.7644 - val_loss: 0.7648 - val_accuracy: 0.7666\n",
      "Epoch 13/100\n",
      "210/210 [==============================] - 2s 7ms/step - loss: 0.7427 - accuracy: 0.7720 - val_loss: 0.7358 - val_accuracy: 0.7767\n",
      "Epoch 14/100\n",
      "210/210 [==============================] - 2s 7ms/step - loss: 0.7271 - accuracy: 0.7765 - val_loss: 0.7716 - val_accuracy: 0.7597\n",
      "Epoch 15/100\n",
      "210/210 [==============================] - 2s 8ms/step - loss: 0.7034 - accuracy: 0.7840 - val_loss: 0.7363 - val_accuracy: 0.7736\n",
      "Epoch 16/100\n",
      "210/210 [==============================] - 2s 7ms/step - loss: 0.6892 - accuracy: 0.7887 - val_loss: 0.6930 - val_accuracy: 0.7899\n",
      "Epoch 17/100\n",
      "210/210 [==============================] - 2s 7ms/step - loss: 0.6814 - accuracy: 0.7905 - val_loss: 0.7315 - val_accuracy: 0.7724\n",
      "Epoch 18/100\n",
      "210/210 [==============================] - 2s 7ms/step - loss: 0.6630 - accuracy: 0.7976 - val_loss: 0.6753 - val_accuracy: 0.7939\n",
      "Epoch 19/100\n",
      "210/210 [==============================] - 2s 7ms/step - loss: 0.6512 - accuracy: 0.7993 - val_loss: 0.6722 - val_accuracy: 0.7958\n",
      "Epoch 20/100\n",
      "210/210 [==============================] - 2s 7ms/step - loss: 0.6314 - accuracy: 0.8061 - val_loss: 0.6469 - val_accuracy: 0.8032\n",
      "Epoch 21/100\n",
      "210/210 [==============================] - 2s 7ms/step - loss: 0.6234 - accuracy: 0.8087 - val_loss: 0.6547 - val_accuracy: 0.8023\n",
      "Epoch 22/100\n",
      "210/210 [==============================] - 2s 7ms/step - loss: 0.6151 - accuracy: 0.8109 - val_loss: 0.6606 - val_accuracy: 0.7982\n",
      "Epoch 23/100\n",
      "210/210 [==============================] - 2s 7ms/step - loss: 0.6139 - accuracy: 0.8105 - val_loss: 0.6682 - val_accuracy: 0.7954\n",
      "Epoch 24/100\n",
      "210/210 [==============================] - 2s 7ms/step - loss: 0.6024 - accuracy: 0.8152 - val_loss: 0.6351 - val_accuracy: 0.8046\n",
      "Epoch 25/100\n",
      "210/210 [==============================] - 2s 7ms/step - loss: 0.5947 - accuracy: 0.8165 - val_loss: 0.5995 - val_accuracy: 0.8200\n",
      "Epoch 26/100\n",
      "210/210 [==============================] - 2s 10ms/step - loss: 0.5731 - accuracy: 0.8216 - val_loss: 0.6018 - val_accuracy: 0.8179\n",
      "Epoch 27/100\n",
      "210/210 [==============================] - 2s 8ms/step - loss: 0.5584 - accuracy: 0.8281 - val_loss: 0.5785 - val_accuracy: 0.8246\n",
      "Epoch 28/100\n",
      "210/210 [==============================] - 2s 7ms/step - loss: 0.5595 - accuracy: 0.8266 - val_loss: 0.5873 - val_accuracy: 0.8222\n",
      "Epoch 29/100\n",
      "210/210 [==============================] - 2s 7ms/step - loss: 0.5426 - accuracy: 0.8330 - val_loss: 0.5766 - val_accuracy: 0.8257\n",
      "Epoch 30/100\n",
      "210/210 [==============================] - 2s 7ms/step - loss: 0.5408 - accuracy: 0.8352 - val_loss: 0.5487 - val_accuracy: 0.8340\n",
      "Epoch 31/100\n",
      "210/210 [==============================] - 2s 8ms/step - loss: 0.5379 - accuracy: 0.8328 - val_loss: 0.5811 - val_accuracy: 0.8244\n",
      "Epoch 32/100\n",
      "210/210 [==============================] - 2s 8ms/step - loss: 0.5224 - accuracy: 0.8376 - val_loss: 0.5822 - val_accuracy: 0.8220\n",
      "Epoch 33/100\n",
      "210/210 [==============================] - 2s 7ms/step - loss: 0.5217 - accuracy: 0.8375 - val_loss: 0.5670 - val_accuracy: 0.8281\n",
      "Epoch 34/100\n",
      "210/210 [==============================] - 2s 7ms/step - loss: 0.5104 - accuracy: 0.8411 - val_loss: 0.5592 - val_accuracy: 0.8279\n",
      "Epoch 35/100\n",
      "210/210 [==============================] - 2s 7ms/step - loss: 0.4997 - accuracy: 0.8444 - val_loss: 0.5526 - val_accuracy: 0.8312\n",
      "Epoch 36/100\n",
      "210/210 [==============================] - 2s 8ms/step - loss: 0.5148 - accuracy: 0.8401 - val_loss: 0.6081 - val_accuracy: 0.8143\n",
      "Epoch 37/100\n",
      "210/210 [==============================] - 2s 8ms/step - loss: 0.4866 - accuracy: 0.8493 - val_loss: 0.5541 - val_accuracy: 0.8298\n",
      "Epoch 38/100\n",
      "210/210 [==============================] - 2s 8ms/step - loss: 0.4887 - accuracy: 0.8469 - val_loss: 0.5483 - val_accuracy: 0.8309\n",
      "Epoch 39/100\n",
      "210/210 [==============================] - 2s 7ms/step - loss: 0.4734 - accuracy: 0.8519 - val_loss: 0.5421 - val_accuracy: 0.8335\n",
      "Epoch 40/100\n",
      "210/210 [==============================] - 2s 8ms/step - loss: 0.4705 - accuracy: 0.8525 - val_loss: 0.5247 - val_accuracy: 0.8389\n",
      "Epoch 41/100\n",
      "210/210 [==============================] - 2s 8ms/step - loss: 0.4642 - accuracy: 0.8552 - val_loss: 0.4754 - val_accuracy: 0.8569\n",
      "Epoch 42/100\n",
      "210/210 [==============================] - 2s 8ms/step - loss: 0.4645 - accuracy: 0.8548 - val_loss: 0.4713 - val_accuracy: 0.8584\n",
      "Epoch 43/100\n",
      "210/210 [==============================] - 2s 8ms/step - loss: 0.4545 - accuracy: 0.8565 - val_loss: 0.4946 - val_accuracy: 0.8499\n",
      "Epoch 44/100\n",
      "210/210 [==============================] - 2s 10ms/step - loss: 0.4511 - accuracy: 0.8576 - val_loss: 0.5226 - val_accuracy: 0.8403\n",
      "Epoch 45/100\n",
      "210/210 [==============================] - 2s 9ms/step - loss: 0.4453 - accuracy: 0.8613 - val_loss: 0.4849 - val_accuracy: 0.8533\n",
      "Epoch 46/100\n",
      "210/210 [==============================] - 2s 8ms/step - loss: 0.4409 - accuracy: 0.8610 - val_loss: 0.5071 - val_accuracy: 0.8472\n",
      "Epoch 47/100\n",
      "210/210 [==============================] - 2s 10ms/step - loss: 0.4390 - accuracy: 0.8613 - val_loss: 0.5136 - val_accuracy: 0.8411\n",
      "Epoch 48/100\n",
      "210/210 [==============================] - 2s 8ms/step - loss: 0.4386 - accuracy: 0.8611 - val_loss: 0.4815 - val_accuracy: 0.8547\n",
      "Epoch 49/100\n",
      "210/210 [==============================] - 2s 8ms/step - loss: 0.4277 - accuracy: 0.8667 - val_loss: 0.4710 - val_accuracy: 0.8578\n",
      "Epoch 50/100\n",
      "210/210 [==============================] - 2s 8ms/step - loss: 0.4209 - accuracy: 0.8671 - val_loss: 0.4769 - val_accuracy: 0.8555\n",
      "Epoch 51/100\n",
      "210/210 [==============================] - 2s 8ms/step - loss: 0.4119 - accuracy: 0.8726 - val_loss: 0.4567 - val_accuracy: 0.8629\n",
      "Epoch 52/100\n",
      "210/210 [==============================] - 2s 8ms/step - loss: 0.4228 - accuracy: 0.8664 - val_loss: 0.4965 - val_accuracy: 0.8486\n",
      "Epoch 53/100\n",
      "210/210 [==============================] - 2s 8ms/step - loss: 0.4107 - accuracy: 0.8698 - val_loss: 0.4524 - val_accuracy: 0.8659\n",
      "Epoch 54/100\n",
      "210/210 [==============================] - 2s 8ms/step - loss: 0.4120 - accuracy: 0.8699 - val_loss: 0.4893 - val_accuracy: 0.8504\n",
      "Epoch 55/100\n",
      "210/210 [==============================] - 2s 8ms/step - loss: 0.4032 - accuracy: 0.8722 - val_loss: 0.4751 - val_accuracy: 0.8562\n",
      "Epoch 56/100\n",
      "210/210 [==============================] - 2s 8ms/step - loss: 0.4049 - accuracy: 0.8720 - val_loss: 0.4942 - val_accuracy: 0.8496\n",
      "Epoch 57/100\n",
      "210/210 [==============================] - 2s 8ms/step - loss: 0.4060 - accuracy: 0.8713 - val_loss: 0.4561 - val_accuracy: 0.8634\n",
      "Epoch 58/100\n",
      "210/210 [==============================] - 2s 7ms/step - loss: 0.3869 - accuracy: 0.8768 - val_loss: 0.4761 - val_accuracy: 0.8554\n",
      "Epoch 59/100\n",
      "210/210 [==============================] - 2s 7ms/step - loss: 0.3872 - accuracy: 0.8765 - val_loss: 0.4494 - val_accuracy: 0.8657\n",
      "Epoch 60/100\n",
      "210/210 [==============================] - 2s 7ms/step - loss: 0.3902 - accuracy: 0.8757 - val_loss: 0.4465 - val_accuracy: 0.8661\n",
      "Epoch 61/100\n",
      "210/210 [==============================] - 2s 8ms/step - loss: 0.3850 - accuracy: 0.8786 - val_loss: 0.4158 - val_accuracy: 0.8767\n",
      "Epoch 62/100\n",
      "210/210 [==============================] - 2s 8ms/step - loss: 0.3837 - accuracy: 0.8774 - val_loss: 0.4625 - val_accuracy: 0.8603\n",
      "Epoch 63/100\n",
      "210/210 [==============================] - 2s 8ms/step - loss: 0.3855 - accuracy: 0.8762 - val_loss: 0.4374 - val_accuracy: 0.8694\n",
      "Epoch 64/100\n",
      "210/210 [==============================] - 2s 8ms/step - loss: 0.3706 - accuracy: 0.8812 - val_loss: 0.4542 - val_accuracy: 0.8643\n",
      "Epoch 65/100\n",
      "210/210 [==============================] - 2s 9ms/step - loss: 0.3722 - accuracy: 0.8818 - val_loss: 0.4455 - val_accuracy: 0.8666\n",
      "Epoch 66/100\n",
      "210/210 [==============================] - 2s 8ms/step - loss: 0.3647 - accuracy: 0.8844 - val_loss: 0.4182 - val_accuracy: 0.8763\n",
      "Epoch 67/100\n",
      "210/210 [==============================] - 2s 9ms/step - loss: 0.3650 - accuracy: 0.8839 - val_loss: 0.4457 - val_accuracy: 0.8683\n",
      "Epoch 68/100\n",
      "210/210 [==============================] - 2s 8ms/step - loss: 0.3610 - accuracy: 0.8856 - val_loss: 0.4355 - val_accuracy: 0.8712\n",
      "Epoch 69/100\n",
      "210/210 [==============================] - 2s 8ms/step - loss: 0.3599 - accuracy: 0.8844 - val_loss: 0.4201 - val_accuracy: 0.8765\n",
      "Epoch 70/100\n",
      "210/210 [==============================] - 2s 8ms/step - loss: 0.3633 - accuracy: 0.8840 - val_loss: 0.4547 - val_accuracy: 0.8630\n",
      "Epoch 71/100\n",
      "210/210 [==============================] - 2s 8ms/step - loss: 0.3528 - accuracy: 0.8891 - val_loss: 0.4424 - val_accuracy: 0.8678\n",
      "Epoch 72/100\n",
      "210/210 [==============================] - 2s 8ms/step - loss: 0.3459 - accuracy: 0.8896 - val_loss: 0.4563 - val_accuracy: 0.8615\n",
      "Epoch 73/100\n",
      "210/210 [==============================] - 2s 8ms/step - loss: 0.3441 - accuracy: 0.8905 - val_loss: 0.4295 - val_accuracy: 0.8732\n",
      "Epoch 74/100\n",
      "210/210 [==============================] - 2s 9ms/step - loss: 0.3482 - accuracy: 0.8876 - val_loss: 0.4053 - val_accuracy: 0.8822\n",
      "Epoch 75/100\n",
      "210/210 [==============================] - 2s 8ms/step - loss: 0.3461 - accuracy: 0.8893 - val_loss: 0.4470 - val_accuracy: 0.8656\n",
      "Epoch 76/100\n",
      "210/210 [==============================] - 2s 8ms/step - loss: 0.3330 - accuracy: 0.8926 - val_loss: 0.4575 - val_accuracy: 0.8654\n",
      "Epoch 77/100\n",
      "210/210 [==============================] - 2s 8ms/step - loss: 0.3442 - accuracy: 0.8889 - val_loss: 0.4314 - val_accuracy: 0.8727\n",
      "Epoch 78/100\n",
      "210/210 [==============================] - 2s 8ms/step - loss: 0.3352 - accuracy: 0.8925 - val_loss: 0.4343 - val_accuracy: 0.8718\n",
      "Epoch 79/100\n",
      "210/210 [==============================] - 2s 8ms/step - loss: 0.3368 - accuracy: 0.8911 - val_loss: 0.4548 - val_accuracy: 0.8646\n",
      "Epoch 80/100\n",
      "210/210 [==============================] - 2s 8ms/step - loss: 0.3347 - accuracy: 0.8922 - val_loss: 0.4437 - val_accuracy: 0.8697\n",
      "Epoch 81/100\n",
      "210/210 [==============================] - 2s 8ms/step - loss: 0.3307 - accuracy: 0.8942 - val_loss: 0.3969 - val_accuracy: 0.8846\n",
      "Epoch 82/100\n",
      "210/210 [==============================] - 2s 9ms/step - loss: 0.3129 - accuracy: 0.8993 - val_loss: 0.3944 - val_accuracy: 0.8857\n",
      "Epoch 83/100\n",
      "210/210 [==============================] - 2s 8ms/step - loss: 0.3165 - accuracy: 0.8970 - val_loss: 0.4042 - val_accuracy: 0.8826\n",
      "Epoch 84/100\n",
      "210/210 [==============================] - 2s 8ms/step - loss: 0.3132 - accuracy: 0.8993 - val_loss: 0.4413 - val_accuracy: 0.8714\n",
      "Epoch 85/100\n",
      "210/210 [==============================] - 2s 8ms/step - loss: 0.3312 - accuracy: 0.8934 - val_loss: 0.4519 - val_accuracy: 0.8661\n",
      "Epoch 86/100\n",
      "210/210 [==============================] - 2s 8ms/step - loss: 0.3151 - accuracy: 0.8978 - val_loss: 0.4213 - val_accuracy: 0.8759\n",
      "Epoch 87/100\n",
      "210/210 [==============================] - 2s 8ms/step - loss: 0.3179 - accuracy: 0.8985 - val_loss: 0.3914 - val_accuracy: 0.8873\n",
      "Epoch 88/100\n",
      "210/210 [==============================] - 2s 8ms/step - loss: 0.3134 - accuracy: 0.8989 - val_loss: 0.4173 - val_accuracy: 0.8779\n",
      "Epoch 89/100\n",
      "210/210 [==============================] - 2s 8ms/step - loss: 0.3035 - accuracy: 0.9014 - val_loss: 0.4296 - val_accuracy: 0.8761\n",
      "Epoch 90/100\n",
      "210/210 [==============================] - 2s 8ms/step - loss: 0.3020 - accuracy: 0.9023 - val_loss: 0.4227 - val_accuracy: 0.8768\n",
      "Epoch 91/100\n",
      "210/210 [==============================] - 2s 8ms/step - loss: 0.3089 - accuracy: 0.8992 - val_loss: 0.3994 - val_accuracy: 0.8841\n",
      "Epoch 92/100\n",
      "210/210 [==============================] - 2s 8ms/step - loss: 0.2956 - accuracy: 0.9064 - val_loss: 0.4126 - val_accuracy: 0.8814\n",
      "Epoch 93/100\n",
      "210/210 [==============================] - 2s 8ms/step - loss: 0.2998 - accuracy: 0.9028 - val_loss: 0.4287 - val_accuracy: 0.8766\n",
      "Epoch 94/100\n",
      "210/210 [==============================] - 2s 8ms/step - loss: 0.2956 - accuracy: 0.9049 - val_loss: 0.4163 - val_accuracy: 0.8779\n",
      "Epoch 95/100\n",
      "210/210 [==============================] - 2s 8ms/step - loss: 0.3010 - accuracy: 0.9031 - val_loss: 0.4177 - val_accuracy: 0.8795\n",
      "Epoch 96/100\n",
      "210/210 [==============================] - 2s 8ms/step - loss: 0.3000 - accuracy: 0.9027 - val_loss: 0.3995 - val_accuracy: 0.8852\n",
      "Epoch 97/100\n",
      "210/210 [==============================] - 2s 8ms/step - loss: 0.2918 - accuracy: 0.9058 - val_loss: 0.3968 - val_accuracy: 0.8860\n",
      "Epoch 98/100\n",
      "210/210 [==============================] - 2s 8ms/step - loss: 0.2958 - accuracy: 0.9044 - val_loss: 0.4259 - val_accuracy: 0.8780\n",
      "Epoch 99/100\n",
      "210/210 [==============================] - 2s 8ms/step - loss: 0.2803 - accuracy: 0.9100 - val_loss: 0.3915 - val_accuracy: 0.8900\n",
      "Epoch 100/100\n",
      "210/210 [==============================] - 2s 8ms/step - loss: 0.2922 - accuracy: 0.9050 - val_loss: 0.4388 - val_accuracy: 0.8726\n"
     ]
    }
   ],
   "source": [
    "# compiling the neural network classifier, adam optimizer\n",
    "adam = optimizers.Adam(lr = 0.001)\n",
    "model3.compile(optimizer = adam, loss = 'categorical_crossentropy', metrics = ['accuracy'])\n",
    "\n",
    "# Fitting the neural network for training \n",
    "history = model3.fit(X_train, y_train, validation_data = (X_val, y_val), batch_size = 200, epochs = 100, verbose = 1)"
   ]
  },
  {
   "cell_type": "code",
   "execution_count": 44,
   "id": "696b0a9a",
   "metadata": {},
   "outputs": [
    {
     "name": "stdout",
     "output_type": "stream",
     "text": [
      "Evaluate NN model with relu activations and changing the number of activators\n",
      "--------------------------------------------------------------------------------\n",
      "1875/1875 [==============================] - 2s 1ms/step - loss: 0.4388 - accuracy: 0.8726: 0s - loss: 0.4595 - ac\n",
      "Validation accuracy: 87.26\n"
     ]
    }
   ],
   "source": [
    " print('Evaluate NN model with relu activations and changing the number of activators'); print('--'*40)\n",
    "results3 = model3.evaluate(X_val, y_val)\n",
    "print('Validation accuracy: {}'.format(round(results3[1]*100, 2), '%')) "
   ]
  },
  {
   "cell_type": "markdown",
   "id": "bed522ba",
   "metadata": {},
   "source": [
    "### Test data Model 3- ReLu activation and Adam Optimizer"
   ]
  },
  {
   "cell_type": "code",
   "execution_count": 45,
   "id": "dc448a9f",
   "metadata": {},
   "outputs": [
    {
     "name": "stdout",
     "output_type": "stream",
     "text": [
      "NN model with relu activations and changing number of activators\n",
      "--------------------------------------------------------------------------------\n"
     ]
    }
   ],
   "source": [
    "print('NN model with relu activations and changing number of activators'); print('--'*40)\n",
    "# Initialize the neural network classifier\n",
    "model3 = Sequential()\n",
    "\n",
    "# Input Layer - adding input layer and activation functions relu\n",
    "model3.add(Dense(256, input_shape = (1024, )))\n",
    "# Adding activation function\n",
    "model3.add(Activation('relu'))\n",
    "\n",
    "#Hidden Layer 1 - adding first hidden layer\n",
    "model3.add(Dense(128))\n",
    "# Adding activation function\n",
    "model3.add(Activation('relu'))\n",
    "\n",
    "#Hidden Layer 2 - Adding second hidden layer\n",
    "model3.add(Dense(64))\n",
    "# Adding activation function\n",
    "model3.add(Activation('relu'))\n",
    "\n",
    "# Output Layer - adding output layer which is of 10 nodes (digits)\n",
    "model3.add(Dense(10))\n",
    "# Adding activation function - softmax for multiclass classification\n",
    "model3.add(Activation('softmax')) "
   ]
  },
  {
   "cell_type": "code",
   "execution_count": 46,
   "id": "b3c10add",
   "metadata": {},
   "outputs": [
    {
     "name": "stdout",
     "output_type": "stream",
     "text": [
      "Model: \"sequential_3\"\n",
      "_________________________________________________________________\n",
      "Layer (type)                 Output Shape              Param #   \n",
      "=================================================================\n",
      "dense_10 (Dense)             (None, 256)               262400    \n",
      "_________________________________________________________________\n",
      "activation_10 (Activation)   (None, 256)               0         \n",
      "_________________________________________________________________\n",
      "dense_11 (Dense)             (None, 128)               32896     \n",
      "_________________________________________________________________\n",
      "activation_11 (Activation)   (None, 128)               0         \n",
      "_________________________________________________________________\n",
      "dense_12 (Dense)             (None, 64)                8256      \n",
      "_________________________________________________________________\n",
      "activation_12 (Activation)   (None, 64)                0         \n",
      "_________________________________________________________________\n",
      "dense_13 (Dense)             (None, 10)                650       \n",
      "_________________________________________________________________\n",
      "activation_13 (Activation)   (None, 10)                0         \n",
      "=================================================================\n",
      "Total params: 304,202\n",
      "Trainable params: 304,202\n",
      "Non-trainable params: 0\n",
      "_________________________________________________________________\n"
     ]
    }
   ],
   "source": [
    "model3.summary() "
   ]
  },
  {
   "cell_type": "code",
   "execution_count": 47,
   "id": "f91cfae3",
   "metadata": {},
   "outputs": [
    {
     "name": "stdout",
     "output_type": "stream",
     "text": [
      "Epoch 1/100\n",
      "210/210 [==============================] - 1s 7ms/step - loss: 2.2314 - accuracy: 0.1624 - val_loss: 1.9800 - val_accuracy: 0.3004\n",
      "Epoch 2/100\n",
      "210/210 [==============================] - 1s 6ms/step - loss: 1.6621 - accuracy: 0.4311 - val_loss: 1.3921 - val_accuracy: 0.5535\n",
      "Epoch 3/100\n",
      "210/210 [==============================] - 1s 6ms/step - loss: 1.3089 - accuracy: 0.5741 - val_loss: 1.2012 - val_accuracy: 0.6263\n",
      "Epoch 4/100\n",
      "210/210 [==============================] - 1s 6ms/step - loss: 1.1544 - accuracy: 0.6366 - val_loss: 1.0892 - val_accuracy: 0.6648\n",
      "Epoch 5/100\n",
      "210/210 [==============================] - 1s 7ms/step - loss: 1.0680 - accuracy: 0.6687 - val_loss: 1.0365 - val_accuracy: 0.6759\n",
      "Epoch 6/100\n",
      "210/210 [==============================] - 1s 6ms/step - loss: 0.9954 - accuracy: 0.6919 - val_loss: 0.9583 - val_accuracy: 0.7044\n",
      "Epoch 7/100\n",
      "210/210 [==============================] - 1s 6ms/step - loss: 0.9389 - accuracy: 0.7118 - val_loss: 0.8938 - val_accuracy: 0.7255\n",
      "Epoch 8/100\n",
      "210/210 [==============================] - 1s 6ms/step - loss: 0.8919 - accuracy: 0.7260 - val_loss: 0.8770 - val_accuracy: 0.7313\n",
      "Epoch 9/100\n",
      "210/210 [==============================] - 1s 7ms/step - loss: 0.8479 - accuracy: 0.7389 - val_loss: 0.8297 - val_accuracy: 0.7452\n",
      "Epoch 10/100\n",
      "210/210 [==============================] - 2s 7ms/step - loss: 0.8112 - accuracy: 0.7523 - val_loss: 0.8221 - val_accuracy: 0.7465\n",
      "Epoch 11/100\n",
      "210/210 [==============================] - 2s 8ms/step - loss: 0.7960 - accuracy: 0.7550 - val_loss: 0.7791 - val_accuracy: 0.7649\n",
      "Epoch 12/100\n",
      "210/210 [==============================] - 2s 8ms/step - loss: 0.7824 - accuracy: 0.7591 - val_loss: 0.7794 - val_accuracy: 0.7624\n",
      "Epoch 13/100\n",
      "210/210 [==============================] - 2s 8ms/step - loss: 0.7503 - accuracy: 0.7683 - val_loss: 0.7249 - val_accuracy: 0.7826\n",
      "Epoch 14/100\n",
      "210/210 [==============================] - 2s 8ms/step - loss: 0.7397 - accuracy: 0.7728 - val_loss: 0.7310 - val_accuracy: 0.7756\n",
      "Epoch 15/100\n",
      "210/210 [==============================] - 2s 8ms/step - loss: 0.7112 - accuracy: 0.7840 - val_loss: 0.7161 - val_accuracy: 0.7800\n",
      "Epoch 16/100\n",
      "210/210 [==============================] - 2s 8ms/step - loss: 0.7018 - accuracy: 0.7849 - val_loss: 0.7065 - val_accuracy: 0.7850\n",
      "Epoch 17/100\n",
      "210/210 [==============================] - 2s 8ms/step - loss: 0.6825 - accuracy: 0.7914 - val_loss: 0.7103 - val_accuracy: 0.7824\n",
      "Epoch 18/100\n",
      "210/210 [==============================] - 2s 8ms/step - loss: 0.6771 - accuracy: 0.7906 - val_loss: 0.6725 - val_accuracy: 0.7951\n",
      "Epoch 19/100\n",
      "210/210 [==============================] - 2s 8ms/step - loss: 0.6601 - accuracy: 0.7974 - val_loss: 0.6470 - val_accuracy: 0.8058\n",
      "Epoch 20/100\n",
      "210/210 [==============================] - 2s 10ms/step - loss: 0.6442 - accuracy: 0.8013 - val_loss: 0.6517 - val_accuracy: 0.8009\n",
      "Epoch 21/100\n",
      "210/210 [==============================] - 2s 8ms/step - loss: 0.6323 - accuracy: 0.8076 - val_loss: 0.6757 - val_accuracy: 0.7910\n",
      "Epoch 22/100\n",
      "210/210 [==============================] - 2s 8ms/step - loss: 0.6190 - accuracy: 0.8113 - val_loss: 0.6149 - val_accuracy: 0.8137\n",
      "Epoch 23/100\n",
      "210/210 [==============================] - 2s 8ms/step - loss: 0.6114 - accuracy: 0.8139 - val_loss: 0.6157 - val_accuracy: 0.8119\n",
      "Epoch 24/100\n",
      "210/210 [==============================] - 2s 8ms/step - loss: 0.6048 - accuracy: 0.8134 - val_loss: 0.6684 - val_accuracy: 0.7936\n",
      "Epoch 25/100\n",
      "210/210 [==============================] - 2s 8ms/step - loss: 0.6010 - accuracy: 0.8147 - val_loss: 0.6072 - val_accuracy: 0.8164\n",
      "Epoch 26/100\n",
      "210/210 [==============================] - 2s 8ms/step - loss: 0.5833 - accuracy: 0.8213 - val_loss: 0.6294 - val_accuracy: 0.8042\n",
      "Epoch 27/100\n",
      "210/210 [==============================] - 2s 8ms/step - loss: 0.5750 - accuracy: 0.8229 - val_loss: 0.6108 - val_accuracy: 0.8138\n",
      "Epoch 28/100\n",
      "210/210 [==============================] - 2s 8ms/step - loss: 0.5709 - accuracy: 0.8233 - val_loss: 0.5694 - val_accuracy: 0.8288\n",
      "Epoch 29/100\n",
      "210/210 [==============================] - 2s 8ms/step - loss: 0.5576 - accuracy: 0.8284 - val_loss: 0.5755 - val_accuracy: 0.8269\n",
      "Epoch 30/100\n",
      "210/210 [==============================] - 2s 8ms/step - loss: 0.5490 - accuracy: 0.8297 - val_loss: 0.6511 - val_accuracy: 0.8002\n",
      "Epoch 31/100\n",
      "210/210 [==============================] - 2s 9ms/step - loss: 0.5395 - accuracy: 0.8335 - val_loss: 0.6459 - val_accuracy: 0.7974\n",
      "Epoch 32/100\n",
      "210/210 [==============================] - 2s 8ms/step - loss: 0.5380 - accuracy: 0.8336 - val_loss: 0.5405 - val_accuracy: 0.8371\n",
      "Epoch 33/100\n",
      "210/210 [==============================] - 2s 8ms/step - loss: 0.5279 - accuracy: 0.8359 - val_loss: 0.5289 - val_accuracy: 0.8421\n",
      "Epoch 34/100\n",
      "210/210 [==============================] - 2s 8ms/step - loss: 0.5276 - accuracy: 0.8361 - val_loss: 0.6000 - val_accuracy: 0.8163\n",
      "Epoch 35/100\n",
      "210/210 [==============================] - 2s 8ms/step - loss: 0.5350 - accuracy: 0.8327 - val_loss: 0.5673 - val_accuracy: 0.8251\n",
      "Epoch 36/100\n",
      "210/210 [==============================] - 2s 8ms/step - loss: 0.5059 - accuracy: 0.8445 - val_loss: 0.5464 - val_accuracy: 0.8354\n",
      "Epoch 37/100\n",
      "210/210 [==============================] - 2s 9ms/step - loss: 0.5023 - accuracy: 0.8429 - val_loss: 0.5051 - val_accuracy: 0.8490\n",
      "Epoch 38/100\n",
      "210/210 [==============================] - 2s 10ms/step - loss: 0.4939 - accuracy: 0.8457 - val_loss: 0.4996 - val_accuracy: 0.8496\n",
      "Epoch 39/100\n",
      "210/210 [==============================] - 2s 8ms/step - loss: 0.4940 - accuracy: 0.8457 - val_loss: 0.5924 - val_accuracy: 0.8179\n",
      "Epoch 40/100\n",
      "210/210 [==============================] - 2s 9ms/step - loss: 0.4909 - accuracy: 0.8451 - val_loss: 0.5065 - val_accuracy: 0.8482\n",
      "Epoch 41/100\n",
      "210/210 [==============================] - 2s 9ms/step - loss: 0.4762 - accuracy: 0.8527 - val_loss: 0.5122 - val_accuracy: 0.8454\n",
      "Epoch 42/100\n",
      "210/210 [==============================] - 2s 9ms/step - loss: 0.4789 - accuracy: 0.8509 - val_loss: 0.5306 - val_accuracy: 0.8395\n",
      "Epoch 43/100\n",
      "210/210 [==============================] - 2s 9ms/step - loss: 0.4690 - accuracy: 0.8535 - val_loss: 0.4965 - val_accuracy: 0.8509\n",
      "Epoch 44/100\n",
      "210/210 [==============================] - 2s 8ms/step - loss: 0.4642 - accuracy: 0.8550 - val_loss: 0.5047 - val_accuracy: 0.8491\n",
      "Epoch 45/100\n",
      "210/210 [==============================] - 2s 8ms/step - loss: 0.4565 - accuracy: 0.8581 - val_loss: 0.4956 - val_accuracy: 0.8504\n",
      "Epoch 46/100\n",
      "210/210 [==============================] - 2s 8ms/step - loss: 0.4585 - accuracy: 0.8556 - val_loss: 0.4986 - val_accuracy: 0.8483\n",
      "Epoch 47/100\n",
      "210/210 [==============================] - 2s 8ms/step - loss: 0.4535 - accuracy: 0.8566 - val_loss: 0.4984 - val_accuracy: 0.8504\n",
      "Epoch 48/100\n",
      "210/210 [==============================] - 2s 8ms/step - loss: 0.4444 - accuracy: 0.8598 - val_loss: 0.4903 - val_accuracy: 0.8522\n",
      "Epoch 49/100\n",
      "210/210 [==============================] - 2s 8ms/step - loss: 0.4464 - accuracy: 0.8599 - val_loss: 0.5067 - val_accuracy: 0.8476\n",
      "Epoch 50/100\n",
      "210/210 [==============================] - 2s 8ms/step - loss: 0.4456 - accuracy: 0.8598 - val_loss: 0.4940 - val_accuracy: 0.8495\n",
      "Epoch 51/100\n",
      "210/210 [==============================] - 2s 8ms/step - loss: 0.4280 - accuracy: 0.8661 - val_loss: 0.5084 - val_accuracy: 0.8468\n",
      "Epoch 52/100\n",
      "210/210 [==============================] - 2s 8ms/step - loss: 0.4302 - accuracy: 0.8646 - val_loss: 0.5040 - val_accuracy: 0.8483\n",
      "Epoch 53/100\n",
      "210/210 [==============================] - 2s 8ms/step - loss: 0.4317 - accuracy: 0.8635 - val_loss: 0.4756 - val_accuracy: 0.8566\n",
      "Epoch 54/100\n",
      "210/210 [==============================] - 2s 8ms/step - loss: 0.4214 - accuracy: 0.8682 - val_loss: 0.5151 - val_accuracy: 0.8443\n",
      "Epoch 55/100\n",
      "210/210 [==============================] - 2s 8ms/step - loss: 0.4183 - accuracy: 0.8667 - val_loss: 0.5222 - val_accuracy: 0.8388\n",
      "Epoch 56/100\n",
      "210/210 [==============================] - 2s 8ms/step - loss: 0.4181 - accuracy: 0.8687 - val_loss: 0.4679 - val_accuracy: 0.8597\n",
      "Epoch 57/100\n",
      "210/210 [==============================] - 2s 8ms/step - loss: 0.4171 - accuracy: 0.8698 - val_loss: 0.4677 - val_accuracy: 0.8598\n",
      "Epoch 58/100\n",
      "210/210 [==============================] - 2s 8ms/step - loss: 0.4121 - accuracy: 0.8700 - val_loss: 0.5239 - val_accuracy: 0.8421\n",
      "Epoch 59/100\n",
      "210/210 [==============================] - 2s 8ms/step - loss: 0.3993 - accuracy: 0.8742 - val_loss: 0.4602 - val_accuracy: 0.8617\n",
      "Epoch 60/100\n",
      "210/210 [==============================] - 2s 8ms/step - loss: 0.3958 - accuracy: 0.8740 - val_loss: 0.4537 - val_accuracy: 0.8645\n",
      "Epoch 61/100\n",
      "210/210 [==============================] - 2s 8ms/step - loss: 0.3960 - accuracy: 0.8751 - val_loss: 0.4851 - val_accuracy: 0.8522\n",
      "Epoch 62/100\n",
      "210/210 [==============================] - 2s 8ms/step - loss: 0.3937 - accuracy: 0.8760 - val_loss: 0.4657 - val_accuracy: 0.8591\n",
      "Epoch 63/100\n",
      "210/210 [==============================] - 2s 8ms/step - loss: 0.3836 - accuracy: 0.8785 - val_loss: 0.4739 - val_accuracy: 0.8573\n",
      "Epoch 64/100\n",
      "210/210 [==============================] - 2s 8ms/step - loss: 0.3866 - accuracy: 0.8772 - val_loss: 0.4611 - val_accuracy: 0.8617\n",
      "Epoch 65/100\n",
      "210/210 [==============================] - 2s 8ms/step - loss: 0.3732 - accuracy: 0.8831 - val_loss: 0.4405 - val_accuracy: 0.8679\n",
      "Epoch 66/100\n",
      "210/210 [==============================] - 2s 8ms/step - loss: 0.3746 - accuracy: 0.8823 - val_loss: 0.4238 - val_accuracy: 0.8755\n",
      "Epoch 67/100\n",
      "210/210 [==============================] - 2s 8ms/step - loss: 0.3763 - accuracy: 0.8807 - val_loss: 0.4437 - val_accuracy: 0.8677\n",
      "Epoch 68/100\n",
      "210/210 [==============================] - 2s 8ms/step - loss: 0.3643 - accuracy: 0.8840 - val_loss: 0.4233 - val_accuracy: 0.8748\n",
      "Epoch 69/100\n",
      "210/210 [==============================] - 2s 8ms/step - loss: 0.3789 - accuracy: 0.8778 - val_loss: 0.4774 - val_accuracy: 0.8546\n",
      "Epoch 70/100\n",
      "210/210 [==============================] - 2s 8ms/step - loss: 0.3759 - accuracy: 0.8814 - val_loss: 0.4149 - val_accuracy: 0.8780\n",
      "Epoch 71/100\n",
      "210/210 [==============================] - 2s 10ms/step - loss: 0.3605 - accuracy: 0.8856 - val_loss: 0.4297 - val_accuracy: 0.8752\n",
      "Epoch 72/100\n",
      "210/210 [==============================] - 2s 8ms/step - loss: 0.3629 - accuracy: 0.8844 - val_loss: 0.4408 - val_accuracy: 0.8709\n",
      "Epoch 73/100\n",
      "210/210 [==============================] - 2s 8ms/step - loss: 0.3577 - accuracy: 0.8854 - val_loss: 0.4110 - val_accuracy: 0.8804\n",
      "Epoch 74/100\n",
      "210/210 [==============================] - 2s 8ms/step - loss: 0.3473 - accuracy: 0.8891 - val_loss: 0.4274 - val_accuracy: 0.8742\n",
      "Epoch 75/100\n",
      "210/210 [==============================] - 2s 8ms/step - loss: 0.3546 - accuracy: 0.8861 - val_loss: 0.4268 - val_accuracy: 0.8745\n",
      "Epoch 76/100\n",
      "210/210 [==============================] - 2s 8ms/step - loss: 0.3484 - accuracy: 0.8887 - val_loss: 0.4325 - val_accuracy: 0.8728\n",
      "Epoch 77/100\n",
      "210/210 [==============================] - 2s 8ms/step - loss: 0.3477 - accuracy: 0.8883 - val_loss: 0.4304 - val_accuracy: 0.8723\n",
      "Epoch 78/100\n",
      "210/210 [==============================] - 2s 8ms/step - loss: 0.3466 - accuracy: 0.8888 - val_loss: 0.4245 - val_accuracy: 0.8762\n",
      "Epoch 79/100\n",
      "210/210 [==============================] - 2s 8ms/step - loss: 0.3390 - accuracy: 0.8921 - val_loss: 0.4499 - val_accuracy: 0.8680\n",
      "Epoch 80/100\n",
      "210/210 [==============================] - 2s 8ms/step - loss: 0.3372 - accuracy: 0.8914 - val_loss: 0.4494 - val_accuracy: 0.8671\n",
      "Epoch 81/100\n",
      "210/210 [==============================] - 2s 8ms/step - loss: 0.3285 - accuracy: 0.8940 - val_loss: 0.4426 - val_accuracy: 0.8698\n",
      "Epoch 82/100\n",
      "210/210 [==============================] - 2s 8ms/step - loss: 0.3353 - accuracy: 0.8933 - val_loss: 0.4169 - val_accuracy: 0.8794\n",
      "Epoch 83/100\n",
      "210/210 [==============================] - 2s 8ms/step - loss: 0.3282 - accuracy: 0.8952 - val_loss: 0.4177 - val_accuracy: 0.8789\n",
      "Epoch 84/100\n",
      "210/210 [==============================] - 2s 8ms/step - loss: 0.3264 - accuracy: 0.8969 - val_loss: 0.4335 - val_accuracy: 0.8723\n",
      "Epoch 85/100\n",
      "210/210 [==============================] - 2s 8ms/step - loss: 0.3175 - accuracy: 0.8970 - val_loss: 0.4130 - val_accuracy: 0.8809\n",
      "Epoch 86/100\n",
      "210/210 [==============================] - 2s 9ms/step - loss: 0.3222 - accuracy: 0.8971 - val_loss: 0.4126 - val_accuracy: 0.8797\n",
      "Epoch 87/100\n",
      "210/210 [==============================] - 2s 10ms/step - loss: 0.3146 - accuracy: 0.8977 - val_loss: 0.4012 - val_accuracy: 0.8856\n",
      "Epoch 88/100\n",
      "210/210 [==============================] - 2s 11ms/step - loss: 0.3066 - accuracy: 0.9024 - val_loss: 0.4462 - val_accuracy: 0.8717\n",
      "Epoch 89/100\n",
      "210/210 [==============================] - 2s 8ms/step - loss: 0.3239 - accuracy: 0.8955 - val_loss: 0.4222 - val_accuracy: 0.8774\n",
      "Epoch 90/100\n",
      "210/210 [==============================] - 2s 8ms/step - loss: 0.3094 - accuracy: 0.8988 - val_loss: 0.4340 - val_accuracy: 0.8749\n",
      "Epoch 91/100\n",
      "210/210 [==============================] - 2s 8ms/step - loss: 0.3141 - accuracy: 0.8991 - val_loss: 0.4757 - val_accuracy: 0.8627\n",
      "Epoch 92/100\n",
      "210/210 [==============================] - 2s 8ms/step - loss: 0.3154 - accuracy: 0.8984 - val_loss: 0.4273 - val_accuracy: 0.8763\n",
      "Epoch 93/100\n",
      "210/210 [==============================] - 2s 8ms/step - loss: 0.3143 - accuracy: 0.8972 - val_loss: 0.4224 - val_accuracy: 0.8790\n",
      "Epoch 94/100\n",
      "210/210 [==============================] - 2s 8ms/step - loss: 0.2977 - accuracy: 0.9038 - val_loss: 0.4676 - val_accuracy: 0.8658\n",
      "Epoch 95/100\n",
      "210/210 [==============================] - 2s 8ms/step - loss: 0.3014 - accuracy: 0.9030 - val_loss: 0.4066 - val_accuracy: 0.8844\n",
      "Epoch 96/100\n",
      "210/210 [==============================] - 2s 8ms/step - loss: 0.2907 - accuracy: 0.9063 - val_loss: 0.3906 - val_accuracy: 0.8905\n",
      "Epoch 97/100\n",
      "210/210 [==============================] - 2s 8ms/step - loss: 0.3060 - accuracy: 0.9008 - val_loss: 0.4207 - val_accuracy: 0.8779\n",
      "Epoch 98/100\n",
      "210/210 [==============================] - 2s 8ms/step - loss: 0.3084 - accuracy: 0.8993 - val_loss: 0.4249 - val_accuracy: 0.8777\n",
      "Epoch 99/100\n",
      "210/210 [==============================] - 2s 8ms/step - loss: 0.2970 - accuracy: 0.9037 - val_loss: 0.4208 - val_accuracy: 0.8809\n",
      "Epoch 100/100\n",
      "210/210 [==============================] - 2s 8ms/step - loss: 0.3025 - accuracy: 0.9016 - val_loss: 0.5157 - val_accuracy: 0.8516\n"
     ]
    }
   ],
   "source": [
    "# compiling the neural network classifier, adam optimizer\n",
    "adam = optimizers.Adam(lr = 0.001)\n",
    "model3.compile(optimizer = adam, loss = 'categorical_crossentropy', metrics = ['accuracy'])\n",
    "\n",
    "# Fitting the neural network for training\n",
    "history = model3.fit(X_train, y_train, validation_data = (X_val, y_val), batch_size = 200, epochs = 100, verbose = 1) "
   ]
  },
  {
   "cell_type": "code",
   "execution_count": 48,
   "id": "03b747c4",
   "metadata": {},
   "outputs": [
    {
     "name": "stdout",
     "output_type": "stream",
     "text": [
      "NN with batch normalization\n",
      "--------------------------------------------------------------------------------\n",
      "1875/1875 [==============================] - 2s 1ms/step - loss: 0.5157 - accuracy: 0.8516: 0s - loss: 0.5\n",
      "Validation accuracy: 85.16\n"
     ]
    }
   ],
   "source": [
    "print('NN with batch normalization'); print('--'*40)\n",
    "results3 = model3.evaluate(X_val, y_val)\n",
    "print('Validation accuracy: {}'.format(round(results3[1]*100, 2), '%')) "
   ]
  },
  {
   "cell_type": "code",
   "execution_count": 49,
   "id": "e3701ba7",
   "metadata": {},
   "outputs": [
    {
     "name": "stdout",
     "output_type": "stream",
     "text": [
      "Testing the model on test dataset\n",
      "WARNING:tensorflow:From <ipython-input-49-8630fb5edea5>:2: Sequential.predict_classes (from tensorflow.python.keras.engine.sequential) is deprecated and will be removed after 2021-01-01.\n",
      "Instructions for updating:\n",
      "Please use instead:* `np.argmax(model.predict(x), axis=-1)`,   if your model does multi-class classification   (e.g. if it uses a `softmax` last-layer activation).* `(model.predict(x) > 0.5).astype(\"int32\")`,   if your model does binary classification   (e.g. if it uses a `sigmoid` last-layer activation).\n",
      "563/563 [==============================] - 1s 1ms/step - loss: 0.8110 - accuracy: 0.8044\n",
      "Test loss : 0.8109921813011169\n",
      "Test accuracy : 0.804444432258606\n"
     ]
    }
   ],
   "source": [
    "print('Testing the model on test dataset')\n",
    "predictions = model3.predict_classes(X_test)\n",
    "score = model3.evaluate(X_test, y_test)\n",
    "print('Test loss :', score[0])\n",
    "print('Test accuracy :', score[1]) "
   ]
  },
  {
   "cell_type": "code",
   "execution_count": 50,
   "id": "727c4376",
   "metadata": {},
   "outputs": [
    {
     "name": "stdout",
     "output_type": "stream",
     "text": [
      "Classification Report\n",
      "--------------------------------------------------------------------------------\n",
      "              precision    recall  f1-score   support\n",
      "\n",
      "           0       0.78      0.89      0.83      1814\n",
      "           1       0.85      0.79      0.82      1828\n",
      "           2       0.80      0.80      0.80      1803\n",
      "           3       0.81      0.72      0.76      1719\n",
      "           4       0.85      0.85      0.85      1812\n",
      "           5       0.79      0.77      0.78      1768\n",
      "           6       0.83      0.79      0.81      1832\n",
      "           7       0.78      0.87      0.82      1808\n",
      "           8       0.81      0.74      0.77      1812\n",
      "           9       0.76      0.82      0.79      1804\n",
      "\n",
      "    accuracy                           0.80     18000\n",
      "   macro avg       0.81      0.80      0.80     18000\n",
      "weighted avg       0.81      0.80      0.80     18000\n",
      "\n"
     ]
    }
   ],
   "source": [
    "print('Classification Report'); print('--'*40)\n",
    "print(classification_report(y_test_o, predictions)) "
   ]
  },
  {
   "cell_type": "code",
   "execution_count": 51,
   "id": "bbdda173",
   "metadata": {},
   "outputs": [
    {
     "name": "stdout",
     "output_type": "stream",
     "text": [
      "Visualizing the confusion matrix\n"
     ]
    },
    {
     "data": {
      "text/plain": [
       "<AxesSubplot:>"
      ]
     },
     "execution_count": 51,
     "metadata": {},
     "output_type": "execute_result"
    },
    {
     "data": {
      "image/png": "[encoded data removed]",
      "text/plain": [
       "<Figure size 1080x518.4 with 2 Axes>"
      ]
     },
     "metadata": {
      "needs_background": "light"
     },
     "output_type": "display_data"
    }
   ],
   "source": [
    "print('Visualizing the confusion matrix')\n",
    "plt.figure(figsize = (15, 7.2))\n",
    "sns.heatmap(confusion_matrix(y_test_o, predictions), annot = True) "
   ]
  },
  {
   "cell_type": "code",
   "execution_count": 58,
   "id": "97d137d3",
   "metadata": {},
   "outputs": [
    {
     "data": {
      "image/png": "[encoded data removed]",
      "text/plain": [
       "<Figure size 432x288 with 1 Axes>"
      ]
     },
     "metadata": {
      "needs_background": "light"
     },
     "output_type": "display_data"
    },
    {
     "data": {
      "image/png": "[encoded data removed]",
      "text/plain": [
       "<Figure size 432x288 with 1 Axes>"
      ]
     },
     "metadata": {
      "needs_background": "light"
     },
     "output_type": "display_data"
    }
   ],
   "source": [
    " # summarize history for accuracy\n",
    "plt.plot(history.history['accuracy'])\n",
    "plt.plot(history.history['val_accuracy'])\n",
    "plt.title('Model3 Accuracy')\n",
    "plt.ylabel('accuracy')\n",
    "plt.xlabel('epoch')\n",
    "plt.legend(['Train', 'Validation'], loc = 'upper left')\n",
    "plt.show()\n",
    "# summarize history for loss\n",
    "plt.plot(history.history['loss'])\n",
    "plt.plot(history.history['val_loss'])\n",
    "plt.title('Model3 Loss')\n",
    "plt.ylabel('loss')\n",
    "plt.xlabel('epoch')\n",
    "plt.legend(['Train', 'Validation'], loc = 'upper left')\n",
    "plt.show() "
   ]
  },
  {
   "cell_type": "code",
   "execution_count": 53,
   "id": "ef94c88f",
   "metadata": {},
   "outputs": [
    {
     "data": {
      "text/plain": [
       "9"
      ]
     },
     "execution_count": 53,
     "metadata": {},
     "output_type": "execute_result"
    }
   ],
   "source": [
    "model3.predict_classes(X_test)[5] "
   ]
  },
  {
   "cell_type": "code",
   "execution_count": 54,
   "id": "373b803b",
   "metadata": {},
   "outputs": [
    {
     "data": {
      "text/plain": [
       "<matplotlib.image.AxesImage at 0x1e4a8fc0f40>"
      ]
     },
     "execution_count": 54,
     "metadata": {},
     "output_type": "execute_result"
    },
    {
     "data": {
      "image/png": "[encoded data removed]",
      "text/plain": [
       "<Figure size 432x288 with 1 Axes>"
      ]
     },
     "metadata": {
      "needs_background": "light"
     },
     "output_type": "display_data"
    }
   ],
   "source": [
    "#Showing the image\n",
    "plt.imshow(X_test[20].reshape(32, 32), cmap = 'gray') "
   ]
  },
  {
   "cell_type": "code",
   "execution_count": 55,
   "id": "7cc05189",
   "metadata": {},
   "outputs": [
    {
     "data": {
      "text/plain": [
       "0"
      ]
     },
     "execution_count": 55,
     "metadata": {},
     "output_type": "execute_result"
    }
   ],
   "source": [
    "model3.predict_classes(X_test)[20] "
   ]
  },
  {
   "cell_type": "code",
   "execution_count": 56,
   "id": "4f98dc35",
   "metadata": {},
   "outputs": [
    {
     "data": {
      "text/plain": [
       "8"
      ]
     },
     "execution_count": 56,
     "metadata": {},
     "output_type": "execute_result"
    }
   ],
   "source": [
    "model3.predict_classes(X_test)[10] "
   ]
  }
 ],
 "metadata": {
  "kernelspec": {
   "display_name": "Python 3",
   "language": "python",
   "name": "python3"
  },
  "language_info": {
   "codemirror_mode": {
    "name": "ipython",
    "version": 3
   },
   "file_extension": ".py",
   "mimetype": "text/x-python",
   "name": "python",
   "nbconvert_exporter": "python",
   "pygments_lexer": "ipython3",
   "version": "3.8.8"
  }
 },
 "nbformat": 4,
 "nbformat_minor": 5
}
